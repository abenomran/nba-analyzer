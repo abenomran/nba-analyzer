{
  "cells": [
    {
      "cell_type": "code",
      "execution_count": null,
      "metadata": {
        "colab": {
          "base_uri": "https://localhost:8080/"
        },
        "id": "rCm2KeYkfZC6",
        "outputId": "3c5182ed-10c5-4fe8-c8c4-bdd8a6a28410"
      },
      "outputs": [
        {
          "name": "stdout",
          "output_type": "stream",
          "text": [
            "Season Stats Response: [{'StatID': 1115404, 'TeamID': 3, 'SeasonType': 1, 'Season': 2024, 'Name': 'Atlanta Hawks', 'Team': 'ATL', 'Wins': 36, 'Losses': 46, 'OpponentPosition': None, 'Possessions': 2777.5, 'GlobalTeamID': 20000003, 'Updated': '2024-06-25T22:42:38', 'Games': 82, 'FantasyPoints': 6182.2, 'Minutes': 6707, 'Seconds': 19, 'FieldGoalsMade': 1192.8, 'FieldGoalsAttempted': 2563.4, 'FieldGoalsPercentage': 15.7, 'EffectiveFieldGoalsPercentage': 18.3, 'TwoPointersMade': 812.6, 'TwoPointersAttempted': 1518.3, 'TwoPointersPercentage': 18.1, 'ThreePointersMade': 380.2, 'ThreePointersAttempted': 1045.1, 'ThreePointersPercentage': 12.3, 'FreeThrowsMade': 513.8, 'FreeThrowsAttempted': 644.2, 'FreeThrowsPercentage': 26.9, 'OffensiveRebounds': 346.1, 'DefensiveRebounds': 892.0, 'Rebounds': 1238.1, 'OffensiveReboundsPercentage': None, 'DefensiveReboundsPercentage': None, 'TotalReboundsPercentage': None, 'Assists': 736.8, 'Steals': 207.9, 'BlockedShots': 124.7, 'Turnovers': 353.5, 'PersonalFouls': 514.4, 'Points': 3279.6, 'TrueShootingAttempts': 2846.9, 'TrueShootingPercentage': 19.5, 'PlayerEfficiencyRating': None, 'AssistsPercentage': None, 'StealsPercentage': None, 'BlocksPercentage': None, 'TurnOversPercentage': None, 'UsageRatePercentage': None, 'FantasyPointsFanDuel': 6514.8, 'FantasyPointsDraftKings': 6681.0, 'FantasyPointsYahoo': 6514.8, 'PlusMinus': -304.2, 'DoubleDoubles': 45.3, 'TripleDoubles': 0.2, 'FantasyPointsFantasyDraft': 6680.0, 'IsClosed': False, 'LineupConfirmed': None, 'LineupStatus': 'Scrambled', 'OpponentStat': {'StatID': 1115428, 'TeamID': 3, 'SeasonType': 1, 'Season': 2024, 'Name': 'Atlanta Hawks', 'Team': 'ATL', 'Wins': 46, 'Losses': 36, 'OpponentPosition': None, 'Possessions': 2777.5, 'GlobalTeamID': 20000003, 'Updated': '2024-06-25T22:42:38', 'Games': 82, 'FantasyPoints': 6356.6, 'Minutes': 6711, 'Seconds': 3, 'FieldGoalsMade': 1236.7, 'FieldGoalsAttempted': 2499.2, 'FieldGoalsPercentage': 16.7, 'EffectiveFieldGoalsPercentage': 19.3, 'TwoPointersMade': 849.1, 'TwoPointersAttempted': 1489.6, 'TwoPointersPercentage': 19.3, 'ThreePointersMade': 387.7, 'ThreePointersAttempted': 1009.6, 'ThreePointersPercentage': 13.0, 'FreeThrowsMade': 478.9, 'FreeThrowsAttempted': 605.0, 'FreeThrowsPercentage': 26.8, 'OffensiveRebounds': 294.1, 'DefensiveRebounds': 932.2, 'Rebounds': 1226.3, 'OffensiveReboundsPercentage': None, 'DefensiveReboundsPercentage': None, 'TotalReboundsPercentage': None, 'Assists': 782.1, 'Steals': 215.6, 'BlockedShots': 155.8, 'Turnovers': 371.1, 'PersonalFouls': 538.8, 'Points': 3340.1, 'TrueShootingAttempts': 2765.4, 'TrueShootingPercentage': 20.4, 'PlayerEfficiencyRating': None, 'AssistsPercentage': None, 'StealsPercentage': None, 'BlocksPercentage': None, 'TurnOversPercentage': None, 'UsageRatePercentage': None, 'FantasyPointsFanDuel': 6728.1, 'FantasyPointsDraftKings': 6839.4, 'FantasyPointsYahoo': 6728.1, 'PlusMinus': 302.5, 'DoubleDoubles': 26.0, 'TripleDoubles': 0.3, 'FantasyPointsFantasyDraft': 6837.9, 'IsClosed': False, 'LineupConfirmed': None, 'LineupStatus': 'Scrambled', 'OpponentStat': None}}, {'StatID': 1115408, 'TeamID': 8, 'SeasonType': 1, 'Season': 2024, 'Name': 'Brooklyn Nets', 'Team': 'BKN', 'Wins': 32, 'Losses': 50, 'OpponentPosition': None, 'Possessions': 2681.1, 'GlobalTeamID': 20000008, 'Updated': '2024-06-25T22:42:38', 'Games': 82, 'FantasyPoints': 5911.1, 'Minutes': 6690, 'Seconds': 3, 'FieldGoalsMade': 1126.9, 'FieldGoalsAttempted': 2469.8, 'FieldGoalsPercentage': 15.4, 'EffectiveFieldGoalsPercentage': 17.9, 'TwoPointersMade': 758.8, 'TwoPointersAttempted': 1452.4, 'TwoPointersPercentage': 17.6, 'ThreePointersMade': 368.1, 'ThreePointersAttempted': 1017.4, 'ThreePointersPercentage': 12.2, 'FreeThrowsMade': 437.0, 'FreeThrowsAttempted': 578.3, 'FreeThrowsPercentage': 25.6, 'OffensiveRebounds': 317.0, 'DefensiveRebounds': 904.2, 'Rebounds': 1221.2, 'OffensiveReboundsPercentage': None, 'DefensiveReboundsPercentage': None, 'TotalReboundsPercentage': None, 'Assists': 710.5, 'Steals': 187.9, 'BlockedShots': 143.3, 'Turnovers': 341.4, 'PersonalFouls': 512.4, 'Points': 3058.9, 'TrueShootingAttempts': 2724.2, 'TrueShootingPercentage': 19.0, 'PlayerEfficiencyRating': None, 'AssistsPercentage': None, 'StealsPercentage': None, 'BlocksPercentage': None, 'TurnOversPercentage': None, 'UsageRatePercentage': None, 'FantasyPointsFanDuel': 6242.4, 'FantasyPointsDraftKings': 6355.8, 'FantasyPointsYahoo': 6242.4, 'PlusMinus': -399.9, 'DoubleDoubles': 19.3, 'TripleDoubles': 0.0, 'FantasyPointsFantasyDraft': 6355.8, 'IsClosed': False, 'LineupConfirmed': None, 'LineupStatus': 'Scrambled', 'OpponentStat': {'StatID': 1115432, 'TeamID': 8, 'SeasonType': 1, 'Season': 2024, 'Name': 'Brooklyn Nets', 'Team': 'BKN', 'Wins': 50, 'Losses': 32, 'OpponentPosition': None, 'Possessions': 2681.1, 'GlobalTeamID': 20000008, 'Updated': '2024-06-25T22:42:38', 'Games': 82, 'FantasyPoints': 5999.6, 'Minutes': 6694, 'Seconds': 1, 'FieldGoalsMade': 1152.6, 'FieldGoalsAttempted': 2452.2, 'FieldGoalsPercentage': 15.9, 'EffectiveFieldGoalsPercentage': 18.4, 'TwoPointersMade': 792.3, 'TwoPointersAttempted': 1483.8, 'TwoPointersPercentage': 18.0, 'ThreePointersMade': 360.3, 'ThreePointersAttempted': 968.4, 'ThreePointersPercentage': 12.6, 'FreeThrowsMade': 473.5, 'FreeThrowsAttempted': 586.8, 'FreeThrowsPercentage': 27.3, 'OffensiveRebounds': 284.9, 'DefensiveRebounds': 942.3, 'Rebounds': 1227.3, 'OffensiveReboundsPercentage': None, 'DefensiveReboundsPercentage': None, 'TotalReboundsPercentage': None, 'Assists': 705.7, 'Steals': 190.3, 'BlockedShots': 138.2, 'Turnovers': 327.9, 'PersonalFouls': 505.6, 'Points': 3139.0, 'TrueShootingAttempts': 2710.4, 'TrueShootingPercentage': 19.6, 'PlayerEfficiencyRating': None, 'AssistsPercentage': None, 'StealsPercentage': None, 'BlocksPercentage': None, 'TurnOversPercentage': None, 'UsageRatePercentage': None, 'FantasyPointsFanDuel': 6328.1, 'FantasyPointsDraftKings': 6448.6, 'FantasyPointsYahoo': 6328.1, 'PlusMinus': 400.2, 'DoubleDoubles': 28.4, 'TripleDoubles': 0.1, 'FantasyPointsFantasyDraft': 6448.1, 'IsClosed': False, 'LineupConfirmed': None, 'LineupStatus': 'Scrambled', 'OpponentStat': None}}, {'StatID': 1115409, 'TeamID': 9, 'SeasonType': 1, 'Season': 2024, 'Name': 'Boston Celtics', 'Team': 'BOS', 'Wins': 64, 'Losses': 18, 'OpponentPosition': None, 'Possessions': 2694.2, 'GlobalTeamID': 20000009, 'Updated': '2024-06-25T22:42:38', 'Games': 82, 'FantasyPoints': 6429.5, 'Minutes': 6702, 'Seconds': 13, 'FieldGoalsMade': 1217.1, 'FieldGoalsAttempted': 2499.8, 'FieldGoalsPercentage': 16.5, 'EffectiveFieldGoalsPercentage': 19.5, 'TwoPointersMade': 760.5, 'TwoPointersAttempted': 1322.9, 'TwoPointersPercentage': 19.4, 'ThreePointersMade': 456.6, 'ThreePointersAttempted': 1176.9, 'ThreePointersPercentage': 13.1, 'FreeThrowsMade': 450.9, 'FreeThrowsAttempted': 559.1, 'FreeThrowsPercentage': 27.3, 'OffensiveRebounds': 296.1, 'DefensiveRebounds': 988.0, 'Rebounds': 1284.1, 'OffensiveReboundsPercentage': None, 'DefensiveReboundsPercentage': None, 'TotalReboundsPercentage': None, 'Assists': 746.0, 'Steals': 188.3, 'BlockedShots': 181.8, 'Turnovers': 312.3, 'PersonalFouls': 448.2, 'Points': 3341.8, 'TrueShootingAttempts': 2745.8, 'TrueShootingPercentage': 20.6, 'PlayerEfficiencyRating': None, 'AssistsPercentage': None, 'StealsPercentage': None, 'BlocksPercentage': None, 'TurnOversPercentage': None, 'UsageRatePercentage': None, 'FantasyPointsFanDuel': 6799.6, 'FantasyPointsDraftKings': 6913.2, 'FantasyPointsYahoo': 6799.6, 'PlusMinus': 1571.7, 'DoubleDoubles': 22.0, 'TripleDoubles': 0.2, 'FantasyPointsFantasyDraft': 6912.2, 'IsClosed': False, 'LineupConfirmed': None, 'LineupStatus': 'Scrambled', 'OpponentStat': {'StatID': 1115433, 'TeamID': 9, 'SeasonType': 1, 'Season': 2024, 'Name': 'Boston Celtics', 'Team': 'BOS', 'Wins': 18, 'Losses': 64, 'OpponentPosition': None, 'Possessions': 2694.2, 'GlobalTeamID': 20000009, 'Updated': '2024-06-25T22:42:38', 'Games': 82, 'FantasyPoints': 5739.7, 'Minutes': 6702, 'Seconds': 11, 'FieldGoalsMade': 1150.2, 'FieldGoalsAttempted': 2540.1, 'FieldGoalsPercentage': 15.3, 'EffectiveFieldGoalsPercentage': 17.7, 'TwoPointersMade': 792.3, 'TwoPointersAttempted': 1523.4, 'TwoPointersPercentage': 17.6, 'ThreePointersMade': 357.9, 'ThreePointersAttempted': 1016.7, 'ThreePointersPercentage': 11.9, 'FreeThrowsMade': 369.1, 'FreeThrowsAttempted': 480.6, 'FreeThrowsPercentage': 26.0, 'OffensiveRebounds': 306.6, 'DefensiveRebounds': 894.0, 'Rebounds': 1200.6, 'OffensiveReboundsPercentage': None, 'DefensiveReboundsPercentage': None, 'TotalReboundsPercentage': None, 'Assists': 690.2, 'Steals': 172.4, 'BlockedShots': 102.8, 'Turnovers': 314.0, 'PersonalFouls': 478.6, 'Points': 3027.5, 'TrueShootingAttempts': 2751.5, 'TrueShootingPercentage': 18.6, 'PlayerEfficiencyRating': None, 'AssistsPercentage': None, 'StealsPercentage': None, 'BlocksPercentage': None, 'TurnOversPercentage': None, 'UsageRatePercentage': None, 'FantasyPointsFanDuel': 6014.8, 'FantasyPointsDraftKings': 6173.2, 'FantasyPointsYahoo': 6014.8, 'PlusMinus': -1571.7, 'DoubleDoubles': 21.6, 'TripleDoubles': 0.6, 'FantasyPointsFantasyDraft': 6170.7, 'IsClosed': False, 'LineupConfirmed': None, 'LineupStatus': 'Scrambled', 'OpponentStat': None}}, {'StatID': 1115403, 'TeamID': 2, 'SeasonType': 1, 'Season': 2024, 'Name': 'Charlotte Hornets', 'Team': 'CHA', 'Wins': 21, 'Losses': 61, 'OpponentPosition': None, 'Possessions': 2680.9, 'GlobalTeamID': 20000002, 'Updated': '2024-06-25T22:42:38', 'Games': 82, 'FantasyPoints': 5595.3, 'Minutes': 6668, 'Seconds': 16, 'FieldGoalsMade': 1109.0, 'FieldGoalsAttempted': 2411.0, 'FieldGoalsPercentage': 15.5, 'EffectiveFieldGoalsPercentage': 17.9, 'TwoPointersMade': 774.7, 'TwoPointersAttempted': 1468.6, 'TwoPointersPercentage': 17.8, 'ThreePointersMade': 334.3, 'ThreePointersAttempted': 942.3, 'ThreePointersPercentage': 12.0, 'FreeThrowsMade': 401.9, 'FreeThrowsAttempted': 511.1, 'FreeThrowsPercentage': 26.6, 'OffensiveRebounds': 258.6, 'DefensiveRebounds': 857.8, 'Rebounds': 1116.4, 'OffensiveReboundsPercentage': None, 'DefensiveReboundsPercentage': None, 'TotalReboundsPercentage': None, 'Assists': 687.2, 'Steals': 190.0, 'BlockedShots': 125.4, 'Turnovers': 360.0, 'PersonalFouls': 497.5, 'Points': 2954.1, 'TrueShootingAttempts': 2635.8, 'TrueShootingPercentage': 18.9, 'PlayerEfficiencyRating': None, 'AssistsPercentage': None, 'StealsPercentage': None, 'BlocksPercentage': None, 'TurnOversPercentage': None, 'UsageRatePercentage': None, 'FantasyPointsFanDuel': 5910.6, 'FantasyPointsDraftKings': 6032.7, 'FantasyPointsYahoo': 5910.6, 'PlusMinus': -1419.6, 'DoubleDoubles': 22.3, 'TripleDoubles': 0.1, 'FantasyPointsFantasyDraft': 6032.2, 'IsClosed': False, 'LineupConfirmed': None, 'LineupStatus': 'Scrambled', 'OpponentStat': {'StatID': 1115427, 'TeamID': 2, 'SeasonType': 1, 'Season': 2024, 'Name': 'Charlotte Hornets', 'Team': 'CHA', 'Wins': 61, 'Losses': 21, 'OpponentPosition': None, 'Possessions': 2680.9, 'GlobalTeamID': 20000002, 'Updated': '2024-06-25T22:42:38', 'Games': 82, 'FantasyPoints': 6246.9, 'Minutes': 6668, 'Seconds': 12, 'FieldGoalsMade': 1201.6, 'FieldGoalsAttempted': 2430.6, 'FieldGoalsPercentage': 16.7, 'EffectiveFieldGoalsPercentage': 19.3, 'TwoPointersMade': 823.7, 'TwoPointersAttempted': 1428.4, 'TwoPointersPercentage': 19.5, 'ThreePointersMade': 377.9, 'ThreePointersAttempted': 1002.2, 'ThreePointersPercentage': 12.7, 'FreeThrowsMade': 457.0, 'FreeThrowsAttempted': 574.3, 'FreeThrowsPercentage': 26.9, 'OffensiveRebounds': 293.0, 'DefensiveRebounds': 964.3, 'Rebounds': 1257.4, 'OffensiveReboundsPercentage': None, 'DefensiveReboundsPercentage': None, 'TotalReboundsPercentage': None, 'Assists': 796.3, 'Steals': 196.7, 'BlockedShots': 133.8, 'Turnovers': 355.6, 'PersonalFouls': 484.0, 'Points': 3238.0, 'TrueShootingAttempts': 2683.2, 'TrueShootingPercentage': 20.4, 'PlayerEfficiencyRating': None, 'AssistsPercentage': None, 'StealsPercentage': None, 'BlocksPercentage': None, 'TurnOversPercentage': None, 'UsageRatePercentage': None, 'FantasyPointsFanDuel': 6577.5, 'FantasyPointsDraftKings': 6726.2, 'FantasyPointsYahoo': 6577.5, 'PlusMinus': 1419.6, 'DoubleDoubles': 29.1, 'TripleDoubles': 0.7, 'FantasyPointsFantasyDraft': 6723.2, 'IsClosed': False, 'LineupConfirmed': None, 'LineupStatus': 'Scrambled', 'OpponentStat': None}}, {'StatID': 1115411, 'TeamID': 11, 'SeasonType': 1, 'Season': 2024, 'Name': 'Chicago Bulls', 'Team': 'CHI', 'Wins': 39, 'Losses': 43, 'OpponentPosition': None, 'Possessions': 2688.0, 'GlobalTeamID': 20000011, 'Updated': '2024-06-25T22:42:38', 'Games': 82, 'FantasyPoints': 5981.5, 'Minutes': 6753, 'Seconds': 14, 'FieldGoalsMade': 1165.4, 'FieldGoalsAttempted': 2480.6, 'FieldGoalsPercentage': 15.9, 'EffectiveFieldGoalsPercentage': 18.0, 'TwoPointersMade': 847.4, 'TwoPointersAttempted': 1591.6, 'TwoPointersPercentage': 18.0, 'ThreePointersMade': 318.1, 'ThreePointersAttempted': 888.9, 'ThreePointersPercentage': 12.1, 'FreeThrowsMade': 462.7, 'FreeThrowsAttempted': 585.1, 'FreeThrowsPercentage': 26.7, 'OffensiveRebounds': 309.6, 'DefensiveRebounds': 904.8, 'Rebounds': 1214.4, 'OffensiveReboundsPercentage': None, 'DefensiveReboundsPercentage': None, 'TotalReboundsPercentage': None, 'Assists': 692.2, 'Steals': 215.6, 'BlockedShots': 133.2, 'Turnovers': 323.5, 'PersonalFouls': 520.9, 'Points': 3111.6, 'TrueShootingAttempts': 2738.0, 'TrueShootingPercentage': 19.2, 'PlayerEfficiencyRating': None, 'AssistsPercentage': None, 'StealsPercentage': None, 'BlocksPercentage': None, 'TurnOversPercentage': None, 'UsageRatePercentage': None, 'FantasyPointsFanDuel': 6330.3, 'FantasyPointsDraftKings': 6404.5, 'FantasyPointsYahoo': 6330.3, 'PlusMinus': -199.4, 'DoubleDoubles': 27.7, 'TripleDoubles': 0.0, 'FantasyPointsFantasyDraft': 6404.5, 'IsClosed': False, 'LineupConfirmed': None, 'LineupStatus': 'Scrambled', 'OpponentStat': {'StatID': 1115435, 'TeamID': 11, 'SeasonType': 1, 'Season': 2024, 'Name': 'Chicago Bulls', 'Team': 'CHI', 'Wins': 43, 'Losses': 39, 'OpponentPosition': None, 'Possessions': 2688.0, 'GlobalTeamID': 20000011, 'Updated': '2024-06-25T22:42:38', 'Games': 82, 'FantasyPoints': 6041.4, 'Minutes': 6753, 'Seconds': 11, 'FieldGoalsMade': 1139.1, 'FieldGoalsAttempted': 2410.3, 'FieldGoalsPercentage': 16.0, 'EffectiveFieldGoalsPercentage': 18.8, 'TwoPointersMade': 734.8, 'TwoPointersAttempted': 1316.8, 'TwoPointersPercentage': 18.9, 'ThreePointersMade': 404.2, 'ThreePointersAttempted': 1093.4, 'ThreePointersPercentage': 12.5, 'FreeThrowsMade': 469.1, 'FreeThrowsAttempted': 604.7, 'FreeThrowsPercentage': 26.2, 'OffensiveRebounds': 280.2, 'DefensiveRebounds': 922.4, 'Rebounds': 1202.6, 'OffensiveReboundsPercentage': None, 'DefensiveReboundsPercentage': None, 'TotalReboundsPercentage': None, 'Assists': 773.0, 'Steals': 187.6, 'BlockedShots': 136.6, 'Turnovers': 361.0, 'PersonalFouls': 519.8, 'Points': 3151.5, 'TrueShootingAttempts': 2676.3, 'TrueShootingPercentage': 19.9, 'PlayerEfficiencyRating': None, 'AssistsPercentage': None, 'StealsPercentage': None, 'BlocksPercentage': None, 'TurnOversPercentage': None, 'UsageRatePercentage': None, 'FantasyPointsFanDuel': 6365.6, 'FantasyPointsDraftKings': 6533.9, 'FantasyPointsYahoo': 6365.6, 'PlusMinus': 199.4, 'DoubleDoubles': 29.1, 'TripleDoubles': 0.7, 'FantasyPointsFantasyDraft': 6530.8, 'IsClosed': False, 'LineupConfirmed': None, 'LineupStatus': 'Scrambled', 'OpponentStat': None}}, {'StatID': 1115412, 'TeamID': 12, 'SeasonType': 1, 'Season': 2024, 'Name': 'Cleveland Cavaliers', 'Team': 'CLE', 'Wins': 48, 'Losses': 34, 'OpponentPosition': None, 'Possessions': 2687.6, 'GlobalTeamID': 20000012, 'Updated': '2024-06-25T22:42:38', 'Games': 82, 'FantasyPoints': 6039.5, 'Minutes': 6694, 'Seconds': 10, 'FieldGoalsMade': 1157.6, 'FieldGoalsAttempted': 2416.0, 'FieldGoalsPercentage': 16.2, 'EffectiveFieldGoalsPercentage': 18.8, 'TwoPointersMade': 783.1, 'TwoPointersAttempted': 1396.6, 'TwoPointersPercentage': 19.0, 'ThreePointersMade': 374.5, 'ThreePointersAttempted': 1019.4, 'ThreePointersPercentage': 12.4, 'FreeThrowsMade': 432.0, 'FreeThrowsAttempted': 564.8, 'FreeThrowsPercentage': 25.9, 'OffensiveRebounds': 272.8, 'DefensiveRebounds': 926.8, 'Rebounds': 1199.6, 'OffensiveReboundsPercentage': None, 'DefensiveReboundsPercentage': None, 'TotalReboundsPercentage': None, 'Assists': 777.1, 'Steals': 204.5, 'BlockedShots': 128.4, 'Turnovers': 353.2, 'PersonalFouls': 485.4, 'Points': 3121.8, 'TrueShootingAttempts': 2664.5, 'TrueShootingPercentage': 19.8, 'PlayerEfficiencyRating': None, 'AssistsPercentage': None, 'StealsPercentage': None, 'BlocksPercentage': None, 'TurnOversPercentage': None, 'UsageRatePercentage': None, 'FantasyPointsFanDuel': 6372.4, 'FantasyPointsDraftKings': 6509.0, 'FantasyPointsYahoo': 6372.4, 'PlusMinus': 333.6, 'DoubleDoubles': 29.7, 'TripleDoubles': 0.1, 'FantasyPointsFantasyDraft': 6508.4, 'IsClosed': False, 'LineupConfirmed': None, 'LineupStatus': 'Scrambled', 'OpponentStat': {'StatID': 1115436, 'TeamID': 12, 'SeasonType': 1, 'Season': 2024, 'Name': 'Cleveland Cavaliers', 'Team': 'CLE', 'Wins': 34, 'Losses': 48, 'OpponentPosition': None, 'Possessions': 2687.6, 'GlobalTeamID': 20000012, 'Updated': '2024-06-25T22:42:38', 'Games': 82, 'FantasyPoints': 5873.9, 'Minutes': 6687, 'Seconds': 0, 'FieldGoalsMade': 1123.2, 'FieldGoalsAttempted': 2425.5, 'FieldGoalsPercentage': 15.6, 'EffectiveFieldGoalsPercentage': 18.1, 'TwoPointersMade': 775.4, 'TwoPointersAttempted': 1488.2, 'TwoPointersPercentage': 17.6, 'ThreePointersMade': 347.8, 'ThreePointersAttempted': 937.3, 'ThreePointersPercentage': 12.5, 'FreeThrowsMade': 460.7, 'FreeThrowsAttempted': 582.7, 'FreeThrowsPercentage': 26.7, 'OffensiveRebounds': 278.2, 'DefensiveRebounds': 904.5, 'Rebounds': 1182.7, 'OffensiveReboundsPercentage': None, 'DefensiveReboundsPercentage': None, 'TotalReboundsPercentage': None, 'Assists': 700.0, 'Steals': 213.6, 'BlockedShots': 138.9, 'Turnovers': 355.2, 'PersonalFouls': 519.2, 'Points': 3054.8, 'TrueShootingAttempts': 2681.9, 'TrueShootingPercentage': 19.3, 'PlayerEfficiencyRating': None, 'AssistsPercentage': None, 'StealsPercentage': None, 'BlocksPercentage': None, 'TurnOversPercentage': None, 'UsageRatePercentage': None, 'FantasyPointsFanDuel': 6226.4, 'FantasyPointsDraftKings': 6324.1, 'FantasyPointsYahoo': 6226.4, 'PlusMinus': -344.1, 'DoubleDoubles': 23.0, 'TripleDoubles': 0.6, 'FantasyPointsFantasyDraft': 6321.5, 'IsClosed': False, 'LineupConfirmed': None, 'LineupStatus': 'Scrambled', 'OpponentStat': None}}, {'StatID': 1115423, 'TeamID': 25, 'SeasonType': 1, 'Season': 2024, 'Name': 'Dallas Mavericks', 'Team': 'DAL', 'Wins': 50, 'Losses': 32, 'OpponentPosition': None, 'Possessions': 2759.6, 'GlobalTeamID': 20000025, 'Updated': '2024-06-25T22:42:38', 'Games': 82, 'FantasyPoints': 6082.4, 'Minutes': 6660, 'Seconds': 3, 'FieldGoalsMade': 1194.8, 'FieldGoalsAttempted': 2485.0, 'FieldGoalsPercentage': 16.3, 'EffectiveFieldGoalsPercentage': 19.0, 'TwoPointersMade': 790.2, 'TwoPointersAttempted': 1389.2, 'TwoPointersPercentage': 19.2, 'ThreePointersMade': 404.6, 'ThreePointersAttempted': 1095.8, 'ThreePointersPercentage': 12.5, 'FreeThrowsMade': 472.2, 'FreeThrowsAttempted': 622.6, 'FreeThrowsPercentage': 25.6, 'OffensiveRebounds': 269.4, 'DefensiveRebounds': 920.7, 'Rebounds': 1190.1, 'OffensiveReboundsPercentage': None, 'DefensiveReboundsPercentage': None, 'TotalReboundsPercentage': None, 'Assists': 711.8, 'Steals': 190.3, 'BlockedShots': 137.2, 'Turnovers': 335.0, 'PersonalFouls': 507.0, 'Points': 3266.4, 'TrueShootingAttempts': 2758.9, 'TrueShootingPercentage': 20.0, 'PlayerEfficiencyRating': None, 'AssistsPercentage': None, 'StealsPercentage': None, 'BlocksPercentage': None, 'TurnOversPercentage': None, 'UsageRatePercentage': None, 'FantasyPointsFanDuel': 6409.9, 'FantasyPointsDraftKings': 6571.0, 'FantasyPointsYahoo': 6409.9, 'PlusMinus': 304.5, 'DoubleDoubles': 25.4, 'TripleDoubles': 2.4, 'FantasyPointsFantasyDraft': 6560.3, 'IsClosed': False, 'LineupConfirmed': None, 'LineupStatus': 'Scrambled', 'OpponentStat': {'StatID': 1115447, 'TeamID': 25, 'SeasonType': 1, 'Season': 2024, 'Name': 'Dallas Mavericks', 'Team': 'DAL', 'Wins': 32, 'Losses': 50, 'OpponentPosition': None, 'Possessions': 2759.6, 'GlobalTeamID': 20000025, 'Updated': '2024-06-25T22:42:38', 'Games': 82, 'FantasyPoints': 6121.2, 'Minutes': 6660, 'Seconds': 3, 'FieldGoalsMade': 1190.4, 'FieldGoalsAttempted': 2505.6, 'FieldGoalsPercentage': 16.1, 'EffectiveFieldGoalsPercentage': 18.5, 'TwoPointersMade': 827.1, 'TwoPointersAttempted': 1518.3, 'TwoPointersPercentage': 18.4, 'ThreePointersMade': 363.4, 'ThreePointersAttempted': 987.3, 'ThreePointersPercentage': 12.4, 'FreeThrowsMade': 461.0, 'FreeThrowsAttempted': 598.9, 'FreeThrowsPercentage': 26.0, 'OffensiveRebounds': 302.8, 'DefensiveRebounds': 946.4, 'Rebounds': 1249.2, 'OffensiveReboundsPercentage': None, 'DefensiveReboundsPercentage': None, 'TotalReboundsPercentage': None, 'Assists': 763.2, 'Steals': 203.8, 'BlockedShots': 111.9, 'Turnovers': 359.3, 'PersonalFouls': 563.4, 'Points': 3205.3, 'TrueShootingAttempts': 2769.1, 'TrueShootingPercentage': 19.6, 'PlayerEfficiencyRating': None, 'AssistsPercentage': None, 'StealsPercentage': None, 'BlocksPercentage': None, 'TurnOversPercentage': None, 'UsageRatePercentage': None, 'FantasyPointsFanDuel': 6436.9, 'FantasyPointsDraftKings': 6580.5, 'FantasyPointsYahoo': 6436.9, 'PlusMinus': -305.9, 'DoubleDoubles': 21.0, 'TripleDoubles': 0.5, 'FantasyPointsFantasyDraft': 6578.5, 'IsClosed': False, 'LineupConfirmed': None, 'LineupStatus': 'Scrambled', 'OpponentStat': None}}, {'StatID': 1114158, 'TeamID': 20, 'SeasonType': 1, 'Season': 2024, 'Name': 'Denver Nuggets', 'Team': 'DEN', 'Wins': 57, 'Losses': 25, 'OpponentPosition': None, 'Possessions': 2666.7, 'GlobalTeamID': 20000020, 'Updated': '2024-06-25T22:42:38', 'Games': 82, 'FantasyPoints': 6263.2, 'Minutes': 6660, 'Seconds': 3, 'FieldGoalsMade': 1220.2, 'FieldGoalsAttempted': 2460.3, 'FieldGoalsPercentage': 16.8, 'EffectiveFieldGoalsPercentage': 19.0, 'TwoPointersMade': 896.4, 'TwoPointersAttempted': 1595.0, 'TwoPointersPercentage': 19.0, 'ThreePointersMade': 323.8, 'ThreePointersAttempted': 865.3, 'ThreePointersPercentage': 12.6, 'FreeThrowsMade': 419.1, 'FreeThrowsAttempted': 550.3, 'FreeThrowsPercentage': 25.8, 'OffensiveRebounds': 297.8, 'DefensiveRebounds': 933.9, 'Rebounds': 1231.7, 'OffensiveReboundsPercentage': None, 'DefensiveReboundsPercentage': None, 'TotalReboundsPercentage': None, 'Assists': 816.3, 'Steals': 197.7, 'BlockedShots': 154.5, 'Turnovers': 326.8, 'PersonalFouls': 503.3, 'Points': 3183.3, 'TrueShootingAttempts': 2702.4, 'TrueShootingPercentage': 19.9, 'PlayerEfficiencyRating': None, 'AssistsPercentage': None, 'StealsPercentage': None, 'BlocksPercentage': None, 'TurnOversPercentage': None, 'UsageRatePercentage': None, 'FantasyPointsFanDuel': 6615.4, 'FantasyPointsDraftKings': 6731.3, 'FantasyPointsYahoo': 6615.4, 'PlusMinus': 728.4, 'DoubleDoubles': 37.2, 'TripleDoubles': 2.9, 'FantasyPointsFantasyDraft': 6718.6, 'IsClosed': False, 'LineupConfirmed': None, 'LineupStatus': 'Scrambled', 'OpponentStat': {'StatID': 1114160, 'TeamID': 20, 'SeasonType': 1, 'Season': 2024, 'Name': 'Denver Nuggets', 'Team': 'DEN', 'Wins': 25, 'Losses': 57, 'OpponentPosition': None, 'Possessions': 2666.7, 'GlobalTeamID': 20000020, 'Updated': '2024-06-25T22:42:38', 'Games': 82, 'FantasyPoints': 5845.2, 'Minutes': 6660, 'Seconds': 14, 'FieldGoalsMade': 1126.2, 'FieldGoalsAttempted': 2437.0, 'FieldGoalsPercentage': 15.6, 'EffectiveFieldGoalsPercentage': 17.8, 'TwoPointersMade': 815.6, 'TwoPointersAttempted': 1562.6, 'TwoPointersPercentage': 17.6, 'ThreePointersMade': 310.6, 'ThreePointersAttempted': 874.4, 'ThreePointersPercentage': 12.0, 'FreeThrowsMade': 474.6, 'FreeThrowsAttempted': 614.8, 'FreeThrowsPercentage': 26.1, 'OffensiveRebounds': 302.2, 'DefensiveRebounds': 869.7, 'Rebounds': 1171.8, 'OffensiveReboundsPercentage': None, 'DefensiveReboundsPercentage': None, 'TotalReboundsPercentage': None, 'Assists': 712.5, 'Steals': 195.4, 'BlockedShots': 133.2, 'Turnovers': 324.5, 'PersonalFouls': 495.8, 'Points': 3037.6, 'TrueShootingAttempts': 2707.5, 'TrueShootingPercentage': 19.0, 'PlayerEfficiencyRating': None, 'AssistsPercentage': None, 'StealsPercentage': None, 'BlocksPercentage': None, 'TurnOversPercentage': None, 'UsageRatePercentage': None, 'FantasyPointsFanDuel': 6173.7, 'FantasyPointsDraftKings': 6257.8, 'FantasyPointsYahoo': 6173.7, 'PlusMinus': -728.4, 'DoubleDoubles': 22.3, 'TripleDoubles': 0.3, 'FantasyPointsFantasyDraft': 6256.3, 'IsClosed': False, 'LineupConfirmed': None, 'LineupStatus': 'Scrambled', 'OpponentStat': None}}, {'StatID': 1115414, 'TeamID': 14, 'SeasonType': 1, 'Season': 2024, 'Name': 'Detroit Pistons', 'Team': 'DET', 'Wins': 14, 'Losses': 68, 'OpponentPosition': None, 'Possessions': 2759.3, 'GlobalTeamID': 20000014, 'Updated': '2024-06-25T22:42:38', 'Games': 82, 'FantasyPoints': 5757.7, 'Minutes': 6677, 'Seconds': 11, 'FieldGoalsMade': 1133.3, 'FieldGoalsAttempted': 2445.8, 'FieldGoalsPercentage': 15.6, 'EffectiveFieldGoalsPercentage': 17.8, 'TwoPointersMade': 827.1, 'TwoPointersAttempted': 1566.3, 'TwoPointersPercentage': 17.8, 'ThreePointersMade': 306.2, 'ThreePointersAttempted': 879.5, 'ThreePointersPercentage': 11.8, 'FreeThrowsMade': 472.5, 'FreeThrowsAttempted': 601.6, 'FreeThrowsPercentage': 26.5, 'OffensiveRebounds': 291.0, 'DefensiveRebounds': 909.9, 'Rebounds': 1200.9, 'OffensiveReboundsPercentage': None, 'DefensiveReboundsPercentage': None, 'TotalReboundsPercentage': None, 'Assists': 705.7, 'Steals': 179.5, 'BlockedShots': 129.8, 'Turnovers': 405.9, 'PersonalFouls': 570.5, 'Points': 3045.4, 'TrueShootingAttempts': 2710.5, 'TrueShootingPercentage': 19.0, 'PlayerEfficiencyRating': None, 'AssistsPercentage': None, 'StealsPercentage': None, 'BlocksPercentage': None, 'TurnOversPercentage': None, 'UsageRatePercentage': None, 'FantasyPointsFanDuel': 6067.0, 'FantasyPointsDraftKings': 6213.4, 'FantasyPointsYahoo': 6067.0, 'PlusMinus': -1262.4, 'DoubleDoubles': 26.4, 'TripleDoubles': 0.0, 'FantasyPointsFantasyDraft': 6213.4, 'IsClosed': False, 'LineupConfirmed': None, 'LineupStatus': 'Scrambled', 'OpponentStat': {'StatID': 1115438, 'TeamID': 14, 'SeasonType': 1, 'Season': 2024, 'Name': 'Detroit Pistons', 'Team': 'DET', 'Wins': 68, 'Losses': 14, 'OpponentPosition': None, 'Possessions': 2759.3, 'GlobalTeamID': 20000014, 'Updated': '2024-06-25T22:42:38', 'Games': 82, 'FantasyPoints': 6350.7, 'Minutes': 6677, 'Seconds': 12, 'FieldGoalsMade': 1209.4, 'FieldGoalsAttempted': 2467.7, 'FieldGoalsPercentage': 16.6, 'EffectiveFieldGoalsPercentage': 18.9, 'TwoPointersMade': 874.4, 'TwoPointersAttempted': 1561.2, 'TwoPointersPercentage': 18.9, 'ThreePointersMade': 335.0, 'ThreePointersAttempted': 906.5, 'ThreePointersPercentage': 12.5, 'FreeThrowsMade': 544.2, 'FreeThrowsAttempted': 680.4, 'FreeThrowsPercentage': 27.0, 'OffensiveRebounds': 267.4, 'DefensiveRebounds': 927.8, 'Rebounds': 1195.2, 'OffensiveReboundsPercentage': None, 'DefensiveReboundsPercentage': None, 'TotalReboundsPercentage': None, 'Assists': 749.0, 'Steals': 245.7, 'BlockedShots': 165.6, 'Turnovers': 327.5, 'PersonalFouls': 492.5, 'Points': 3297.9, 'TrueShootingAttempts': 2767.1, 'TrueShootingPercentage': 20.1, 'PlayerEfficiencyRating': None, 'AssistsPercentage': None, 'StealsPercentage': None, 'BlocksPercentage': None, 'TurnOversPercentage': None, 'UsageRatePercentage': None, 'FantasyPointsFanDuel': 6762.1, 'FantasyPointsDraftKings': 6785.9, 'FantasyPointsYahoo': 6762.1, 'PlusMinus': 1262.4, 'DoubleDoubles': 24.7, 'TripleDoubles': 0.8, 'FantasyPointsFantasyDraft': 6782.3, 'IsClosed': False, 'LineupConfirmed': None, 'LineupStatus': 'Scrambled', 'OpponentStat': None}}, {'StatID': 1114300, 'TeamID': 26, 'SeasonType': 1, 'Season': 2024, 'Name': 'Golden State Warriors', 'Team': 'GS', 'Wins': 46, 'Losses': 36, 'OpponentPosition': None, 'Possessions': 2753.3, 'GlobalTeamID': 20000026, 'Updated': '2024-06-25T22:42:38', 'Games': 82, 'FantasyPoints': 6296.9, 'Minutes': 6702, 'Seconds': 3, 'FieldGoalsMade': 1210.7, 'FieldGoalsAttempted': 2540.1, 'FieldGoalsPercentage': 16.1, 'EffectiveFieldGoalsPercentage': 18.8, 'TwoPointersMade': 801.4, 'TwoPointersAttempted': 1461.5, 'TwoPointersPercentage': 18.5, 'ThreePointersMade': 409.3, 'ThreePointersAttempted': 1078.6, 'ThreePointersPercentage': 12.8, 'FreeThrowsMade': 433.3, 'FreeThrowsAttempted': 555.7, 'FreeThrowsPercentage': 26.4, 'OffensiveRebounds': 336.6, 'DefensiveRebounds': 957.9, 'Rebounds': 1294.5, 'OffensiveReboundsPercentage': None, 'DefensiveReboundsPercentage': None, 'TotalReboundsPercentage': None, 'Assists': 811.9, 'Steals': 193.3, 'BlockedShots': 127.4, 'Turnovers': 379.9, 'PersonalFouls': 540.1, 'Points': 3264.1, 'TrueShootingAttempts': 2784.6, 'TrueShootingPercentage': 19.8, 'PlayerEfficiencyRating': None, 'AssistsPercentage': None, 'StealsPercentage': None, 'BlocksPercentage': None, 'TurnOversPercentage': None, 'UsageRatePercentage': None, 'FantasyPointsFanDuel': 6617.7, 'FantasyPointsDraftKings': 6780.6, 'FantasyPointsYahoo': 6617.7, 'PlusMinus': 363.4, 'DoubleDoubles': 15.5, 'TripleDoubles': 0.1, 'FantasyPointsFantasyDraft': 6780.1, 'IsClosed': False, 'LineupConfirmed': None, 'LineupStatus': 'Scrambled', 'OpponentStat': {'StatID': 1114302, 'TeamID': 26, 'SeasonType': 1, 'Season': 2024, 'Name': 'Golden State Warriors', 'Team': 'GS', 'Wins': 36, 'Losses': 46, 'OpponentPosition': None, 'Possessions': 2753.3, 'GlobalTeamID': 20000026, 'Updated': '2024-06-25T22:42:38', 'Games': 82, 'FantasyPoints': 6087.5, 'Minutes': 6702, 'Seconds': 16, 'FieldGoalsMade': 1167.1, 'FieldGoalsAttempted': 2506.3, 'FieldGoalsPercentage': 15.8, 'EffectiveFieldGoalsPercentage': 18.2, 'TwoPointersMade': 799.4, 'TwoPointersAttempted': 1482.1, 'TwoPointersPercentage': 18.2, 'ThreePointersMade': 367.7, 'ThreePointersAttempted': 1024.1, 'ThreePointersPercentage': 12.1, 'FreeThrowsMade': 489.8, 'FreeThrowsAttempted': 621.9, 'FreeThrowsPercentage': 26.6, 'OffensiveRebounds': 301.5, 'DefensiveRebounds': 887.9, 'Rebounds': 1189.4, 'OffensiveReboundsPercentage': None, 'DefensiveReboundsPercentage': None, 'TotalReboundsPercentage': None, 'Assists': 739.2, 'Steals': 214.0, 'BlockedShots': 137.6, 'Turnovers': 343.4, 'PersonalFouls': 497.2, 'Points': 3191.7, 'TrueShootingAttempts': 2779.9, 'TrueShootingPercentage': 19.4, 'PlayerEfficiencyRating': None, 'AssistsPercentage': None, 'StealsPercentage': None, 'BlocksPercentage': None, 'TurnOversPercentage': None, 'UsageRatePercentage': None, 'FantasyPointsFanDuel': 6439.0, 'FantasyPointsDraftKings': 6549.2, 'FantasyPointsYahoo': 6439.0, 'PlusMinus': -362.7, 'DoubleDoubles': 28.4, 'TripleDoubles': 0.5, 'FantasyPointsFantasyDraft': 6547.1, 'IsClosed': False, 'LineupConfirmed': None, 'LineupStatus': 'Scrambled', 'OpponentStat': None}}, {'StatID': 1115420, 'TeamID': 22, 'SeasonType': 1, 'Season': 2024, 'Name': 'Houston Rockets', 'Team': 'HOU', 'Wins': 41, 'Losses': 41, 'OpponentPosition': None, 'Possessions': 2750.6, 'GlobalTeamID': 20000022, 'Updated': '2024-06-25T22:42:38', 'Games': 82, 'FantasyPoints': 6058.6, 'Minutes': 6706, 'Seconds': 11, 'FieldGoalsMade': 1157.6, 'FieldGoalsAttempted': 2521.1, 'FieldGoalsPercentage': 15.5, 'EffectiveFieldGoalsPercentage': 17.9, 'TwoPointersMade': 805.1, 'TwoPointersAttempted': 1519.3, 'TwoPointersPercentage': 17.9, 'ThreePointersMade': 352.5, 'ThreePointersAttempted': 1001.8, 'ThreePointersPercentage': 11.9, 'FreeThrowsMade': 500.9, 'FreeThrowsAttempted': 647.6, 'FreeThrowsPercentage': 26.1, 'OffensiveRebounds': 317.7, 'DefensiveRebounds': 942.0, 'Rebounds': 1259.7, 'OffensiveReboundsPercentage': None, 'DefensiveReboundsPercentage': None, 'TotalReboundsPercentage': None, 'Assists': 687.8, 'Steals': 216.0, 'BlockedShots': 126.4, 'Turnovers': 338.3, 'PersonalFouls': 575.3, 'Points': 3168.8, 'TrueShootingAttempts': 2806.1, 'TrueShootingPercentage': 19.1, 'PlayerEfficiencyRating': None, 'AssistsPercentage': None, 'StealsPercentage': None, 'BlocksPercentage': None, 'TurnOversPercentage': None, 'UsageRatePercentage': None, 'FantasyPointsFanDuel': 6401.0, 'FantasyPointsDraftKings': 6517.2, 'FantasyPointsYahoo': 6401.0, 'PlusMinus': 158.9, 'DoubleDoubles': 30.8, 'TripleDoubles': 0.5, 'FantasyPointsFantasyDraft': 6515.2, 'IsClosed': False, 'LineupConfirmed': None, 'LineupStatus': 'Scrambled', 'OpponentStat': {'StatID': 1115444, 'TeamID': 22, 'SeasonType': 1, 'Season': 2024, 'Name': 'Houston Rockets', 'Team': 'HOU', 'Wins': 41, 'Losses': 41, 'OpponentPosition': None, 'Possessions': 2750.6, 'GlobalTeamID': 20000022, 'Updated': '2024-06-25T22:42:38', 'Games': 82, 'FantasyPoints': 6008.5, 'Minutes': 6711, 'Seconds': 10, 'FieldGoalsMade': 1130.3, 'FieldGoalsAttempted': 2442.0, 'FieldGoalsPercentage': 15.6, 'EffectiveFieldGoalsPercentage': 18.0, 'TwoPointersMade': 788.2, 'TwoPointersAttempted': 1460.5, 'TwoPointersPercentage': 18.3, 'ThreePointersMade': 342.1, 'ThreePointersAttempted': 981.6, 'ThreePointersPercentage': 11.8, 'FreeThrowsMade': 535.1, 'FreeThrowsAttempted': 698.0, 'FreeThrowsPercentage': 25.9, 'OffensiveRebounds': 296.8, 'DefensiveRebounds': 947.4, 'Rebounds': 1244.2, 'OffensiveReboundsPercentage': None, 'DefensiveReboundsPercentage': None, 'TotalReboundsPercentage': None, 'Assists': 675.0, 'Steals': 201.8, 'BlockedShots': 162.9, 'Turnovers': 364.0, 'PersonalFouls': 543.8, 'Points': 3137.7, 'TrueShootingAttempts': 2749.2, 'TrueShootingPercentage': 19.3, 'PlayerEfficiencyRating': None, 'AssistsPercentage': None, 'StealsPercentage': None, 'BlocksPercentage': None, 'TurnOversPercentage': None, 'UsageRatePercentage': None, 'FantasyPointsFanDuel': 6373.2, 'FantasyPointsDraftKings': 6460.8, 'FantasyPointsYahoo': 6373.2, 'PlusMinus': -156.2, 'DoubleDoubles': 22.0, 'TripleDoubles': 0.5, 'FantasyPointsFantasyDraft': 6458.8, 'IsClosed': False, 'LineupConfirmed': None, 'LineupStatus': 'Scrambled', 'OpponentStat': None}}, {'StatID': 1115413, 'TeamID': 13, 'SeasonType': 1, 'Season': 2024, 'Name': 'Indiana Pacers', 'Team': 'IND', 'Wins': 47, 'Losses': 35, 'OpponentPosition': None, 'Possessions': 2805.0, 'GlobalTeamID': 20000013, 'Updated': '2024-06-25T22:42:38', 'Games': 82, 'FantasyPoints': 6488.6, 'Minutes': 6660, 'Seconds': 2, 'FieldGoalsMade': 1303.0, 'FieldGoalsAttempted': 2568.5, 'FieldGoalsPercentage': 17.1, 'EffectiveFieldGoalsPercentage': 19.5, 'TwoPointersMade': 937.3, 'TwoPointersAttempted': 1591.3, 'TwoPointersPercentage': 19.9, 'ThreePointersMade': 365.7, 'ThreePointersAttempted': 977.2, 'ThreePointersPercentage': 12.6, 'FreeThrowsMade': 445.5, 'FreeThrowsAttempted': 569.5, 'FreeThrowsPercentage': 26.4, 'OffensiveRebounds': 279.5, 'DefensiveRebounds': 871.4, 'Rebounds': 1150.9, 'OffensiveReboundsPercentage': None, 'DefensiveReboundsPercentage': None, 'TotalReboundsPercentage': None, 'Assists': 852.4, 'Steals': 213.3, 'BlockedShots': 162.6, 'Turnovers': 340.0, 'PersonalFouls': 593.5, 'Points': 3417.2, 'TrueShootingAttempts': 2819.1, 'TrueShootingPercentage': 20.5, 'PlayerEfficiencyRating': None, 'AssistsPercentage': None, 'StealsPercentage': None, 'BlocksPercentage': None, 'TurnOversPercentage': None, 'UsageRatePercentage': None, 'FantasyPointsFanDuel': 6864.4, 'FantasyPointsDraftKings': 6947.2, 'FantasyPointsYahoo': 6864.4, 'PlusMinus': 423.2, 'DoubleDoubles': 30.8, 'TripleDoubles': 0.2, 'FantasyPointsFantasyDraft': 6946.2, 'IsClosed': False, 'LineupConfirmed': None, 'LineupStatus': 'Scrambled', 'OpponentStat': {'StatID': 1115437, 'TeamID': 13, 'SeasonType': 1, 'Season': 2024, 'Name': 'Indiana Pacers', 'Team': 'IND', 'Wins': 35, 'Losses': 47, 'OpponentPosition': None, 'Possessions': 2805.0, 'GlobalTeamID': 20000013, 'Updated': '2024-06-25T22:42:38', 'Games': 82, 'FantasyPoints': 6096.5, 'Minutes': 6654, 'Seconds': 16, 'FieldGoalsMade': 1234.7, 'FieldGoalsAttempted': 2488.0, 'FieldGoalsPercentage': 16.8, 'EffectiveFieldGoalsPercentage': 18.8, 'TwoPointersMade': 938.3, 'TwoPointersAttempted': 1675.5, 'TwoPointersPercentage': 18.9, 'ThreePointersMade': 296.4, 'ThreePointersAttempted': 812.6, 'ThreePointersPercentage': 12.3, 'FreeThrowsMade': 566.8, 'FreeThrowsAttempted': 719.9, 'FreeThrowsPercentage': 26.6, 'OffensiveRebounds': 304.5, 'DefensiveRebounds': 897.1, 'Rebounds': 1201.6, 'OffensiveReboundsPercentage': None, 'DefensiveReboundsPercentage': None, 'TotalReboundsPercentage': None, 'Assists': 682.8, 'Steals': 183.5, 'BlockedShots': 148.7, 'Turnovers': 366.7, 'PersonalFouls': 507.3, 'Points': 3332.7, 'TrueShootingAttempts': 2804.8, 'TrueShootingPercentage': 20.1, 'PlayerEfficiencyRating': None, 'AssistsPercentage': None, 'StealsPercentage': None, 'BlocksPercentage': None, 'TurnOversPercentage': None, 'UsageRatePercentage': None, 'FantasyPointsFanDuel': 6428.8, 'FantasyPointsDraftKings': 6532.8, 'FantasyPointsYahoo': 6428.8, 'PlusMinus': -425.2, 'DoubleDoubles': 25.7, 'TripleDoubles': 0.7, 'FantasyPointsFantasyDraft': 6529.7, 'IsClosed': False, 'LineupConfirmed': None, 'LineupStatus': 'Scrambled', 'OpponentStat': None}}, {'StatID': 1115424, 'TeamID': 28, 'SeasonType': 1, 'Season': 2024, 'Name': 'Los Angeles Clippers', 'Team': 'LAC', 'Wins': 51, 'Losses': 31, 'OpponentPosition': None, 'Possessions': 2677.1, 'GlobalTeamID': 20000028, 'Updated': '2024-06-25T22:42:38', 'Games': 82, 'FantasyPoints': 6069.5, 'Minutes': 6653, 'Seconds': 20, 'FieldGoalsMade': 1173.9, 'FieldGoalsAttempted': 2402.5, 'FieldGoalsPercentage': 16.5, 'EffectiveFieldGoalsPercentage': 19.0, 'TwoPointersMade': 823.7, 'TwoPointersAttempted': 1483.5, 'TwoPointersPercentage': 18.8, 'ThreePointersMade': 350.2, 'ThreePointersAttempted': 919.0, 'ThreePointersPercentage': 12.9, 'FreeThrowsMade': 506.7, 'FreeThrowsAttempted': 614.1, 'FreeThrowsPercentage': 27.9, 'OffensiveRebounds': 277.8, 'DefensiveRebounds': 912.9, 'Rebounds': 1190.8, 'OffensiveReboundsPercentage': None, 'DefensiveReboundsPercentage': None, 'TotalReboundsPercentage': None, 'Assists': 708.8, 'Steals': 216.3, 'BlockedShots': 139.6, 'Turnovers': 339.0, 'PersonalFouls': 513.4, 'Points': 3204.6, 'TrueShootingAttempts': 2672.7, 'TrueShootingPercentage': 20.2, 'PlayerEfficiencyRating': None, 'AssistsPercentage': None, 'StealsPercentage': None, 'BlocksPercentage': None, 'TurnOversPercentage': None, 'UsageRatePercentage': None, 'FantasyPointsFanDuel': 6425.4, 'FantasyPointsDraftKings': 6513.2, 'FantasyPointsYahoo': 6425.4, 'PlusMinus': 445.8, 'DoubleDoubles': 23.0, 'TripleDoubles': 0.6, 'FantasyPointsFantasyDraft': 6510.6, 'IsClosed': False, 'LineupConfirmed': None, 'LineupStatus': 'Scrambled', 'OpponentStat': {'StatID': 1115448, 'TeamID': 28, 'SeasonType': 1, 'Season': 2024, 'Name': 'Los Angeles Clippers', 'Team': 'LAC', 'Wins': 31, 'Losses': 51, 'OpponentPosition': None, 'Possessions': 2677.1, 'GlobalTeamID': 20000028, 'Updated': '2024-06-25T22:42:38', 'Games': 82, 'FantasyPoints': 5933.1, 'Minutes': 6660, 'Seconds': 3, 'FieldGoalsMade': 1153.6, 'FieldGoalsAttempted': 2463.3, 'FieldGoalsPercentage': 15.8, 'EffectiveFieldGoalsPercentage': 18.3, 'TwoPointersMade': 797.3, 'TwoPointersAttempted': 1482.5, 'TwoPointersPercentage': 18.2, 'ThreePointersMade': 356.3, 'ThreePointersAttempted': 980.9, 'ThreePointersPercentage': 12.3, 'FreeThrowsMade': 450.2, 'FreeThrowsAttempted': 580.7, 'FreeThrowsPercentage': 26.2, 'OffensiveRebounds': 307.2, 'DefensiveRebounds': 862.2, 'Rebounds': 1169.5, 'OffensiveReboundsPercentage': None, 'DefensiveReboundsPercentage': None, 'TotalReboundsPercentage': None, 'Assists': 731.8, 'Steals': 201.8, 'BlockedShots': 129.8, 'Turnovers': 344.8, 'PersonalFouls': 519.5, 'Points': 3113.7, 'TrueShootingAttempts': 2718.8, 'TrueShootingPercentage': 19.4, 'PlayerEfficiencyRating': None, 'AssistsPercentage': None, 'StealsPercentage': None, 'BlocksPercentage': None, 'TurnOversPercentage': None, 'UsageRatePercentage': None, 'FantasyPointsFanDuel': 6264.7, 'FantasyPointsDraftKings': 6381.6, 'FantasyPointsYahoo': 6264.7, 'PlusMinus': -454.6, 'DoubleDoubles': 23.0, 'TripleDoubles': 0.6, 'FantasyPointsFantasyDraft': 6379.1, 'IsClosed': False, 'LineupConfirmed': None, 'LineupStatus': 'Scrambled', 'OpponentStat': None}}, {'StatID': 1114159, 'TeamID': 27, 'SeasonType': 1, 'Season': 2024, 'Name': 'Los Angeles Lakers', 'Team': 'LAL', 'Wins': 47, 'Losses': 35, 'OpponentPosition': None, 'Possessions': 2803.8, 'GlobalTeamID': 20000027, 'Updated': '2024-06-25T22:42:38', 'Games': 82, 'FantasyPoints': 6235.1, 'Minutes': 6705, 'Seconds': 3, 'FieldGoalsMade': 1210.0, 'FieldGoalsAttempted': 2425.5, 'FieldGoalsPercentage': 16.9, 'EffectiveFieldGoalsPercentage': 19.1, 'TwoPointersMade': 882.5, 'TwoPointersAttempted': 1556.2, 'TwoPointersPercentage': 19.2, 'ThreePointersMade': 327.5, 'ThreePointersAttempted': 869.3, 'ThreePointersPercentage': 12.7, 'FreeThrowsMade': 523.9, 'FreeThrowsAttempted': 670.3, 'FreeThrowsPercentage': 26.4, 'OffensiveRebounds': 228.5, 'DefensiveRebounds': 966.3, 'Rebounds': 1194.8, 'OffensiveReboundsPercentage': None, 'DefensiveReboundsPercentage': None, 'TotalReboundsPercentage': None, 'Assists': 790.9, 'Steals': 204.5, 'BlockedShots': 153.1, 'Turnovers': 371.8, 'PersonalFouls': 433.7, 'Points': 3271.5, 'TrueShootingAttempts': 2720.4, 'TrueShootingPercentage': 20.3, 'PlayerEfficiencyRating': None, 'AssistsPercentage': None, 'StealsPercentage': None, 'BlocksPercentage': None, 'TurnOversPercentage': None, 'UsageRatePercentage': None, 'FantasyPointsFanDuel': 6592.7, 'FantasyPointsDraftKings': 6712.4, 'FantasyPointsYahoo': 6592.7, 'PlusMinus': 76.0, 'DoubleDoubles': 39.9, 'TripleDoubles': 0.9, 'FantasyPointsFantasyDraft': 6708.4, 'IsClosed': False, 'LineupConfirmed': None, 'LineupStatus': 'Scrambled', 'OpponentStat': {'StatID': 1114161, 'TeamID': 27, 'SeasonType': 1, 'Season': 2024, 'Name': 'Los Angeles Lakers', 'Team': 'LAL', 'Wins': 35, 'Losses': 47, 'OpponentPosition': None, 'Possessions': 2803.8, 'GlobalTeamID': 20000027, 'Updated': '2024-06-25T22:42:38', 'Games': 82, 'FantasyPoints': 6260.6, 'Minutes': 6707, 'Seconds': 2, 'FieldGoalsMade': 1231.3, 'FieldGoalsAttempted': 2598.2, 'FieldGoalsPercentage': 16.0, 'EffectiveFieldGoalsPercentage': 18.6, 'TwoPointersMade': 835.9, 'TwoPointersAttempted': 1547.4, 'TwoPointersPercentage': 18.3, 'ThreePointersMade': 395.5, 'ThreePointersAttempted': 1050.8, 'ThreePointersPercentage': 12.7, 'FreeThrowsMade': 396.8, 'FreeThrowsAttempted': 498.9, 'FreeThrowsPercentage': 26.9, 'OffensiveRebounds': 301.8, 'DefensiveRebounds': 919.0, 'Rebounds': 1220.9, 'OffensiveReboundsPercentage': None, 'DefensiveReboundsPercentage': None, 'TotalReboundsPercentage': None, 'Assists': 782.8, 'Steals': 227.5, 'BlockedShots': 131.5, 'Turnovers': 351.5, 'PersonalFouls': 547.2, 'Points': 3254.9, 'TrueShootingAttempts': 2817.7, 'TrueShootingPercentage': 19.5, 'PlayerEfficiencyRating': None, 'AssistsPercentage': None, 'StealsPercentage': None, 'BlocksPercentage': None, 'TurnOversPercentage': None, 'UsageRatePercentage': None, 'FantasyPointsFanDuel': 6619.5, 'FantasyPointsDraftKings': 6745.3, 'FantasyPointsYahoo': 6619.5, 'PlusMinus': -79.1, 'DoubleDoubles': 27.4, 'TripleDoubles': 1.0, 'FantasyPointsFantasyDraft': 6740.7, 'IsClosed': False, 'LineupConfirmed': None, 'LineupStatus': 'Scrambled', 'OpponentStat': None}}, {'StatID': 1115419, 'TeamID': 21, 'SeasonType': 1, 'Season': 2024, 'Name': 'Memphis Grizzlies', 'Team': 'MEM', 'Wins': 27, 'Losses': 55, 'OpponentPosition': None, 'Possessions': 2714.3, 'GlobalTeamID': 20000021, 'Updated': '2024-06-25T22:42:38', 'Games': 82, 'FantasyPoints': 5776.2, 'Minutes': 6685, 'Seconds': 3, 'FieldGoalsMade': 1063.0, 'FieldGoalsAttempted': 2443.7, 'FieldGoalsPercentage': 14.7, 'EffectiveFieldGoalsPercentage': 17.2, 'TwoPointersMade': 701.0, 'TwoPointersAttempted': 1397.0, 'TwoPointersPercentage': 17.0, 'ThreePointersMade': 362.0, 'ThreePointersAttempted': 1046.8, 'ThreePointersPercentage': 11.7, 'FreeThrowsMade': 444.8, 'FreeThrowsAttempted': 582.0, 'FreeThrowsPercentage': 25.8, 'OffensiveRebounds': 302.8, 'DefensiveRebounds': 878.1, 'Rebounds': 1181.0, 'OffensiveReboundsPercentage': None, 'DefensiveReboundsPercentage': None, 'TotalReboundsPercentage': None, 'Assists': 684.4, 'Steals': 227.5, 'BlockedShots': 169.3, 'Turnovers': 394.1, 'PersonalFouls': 528.3, 'Points': 2932.8, 'TrueShootingAttempts': 2699.8, 'TrueShootingPercentage': 18.4, 'PlayerEfficiencyRating': None, 'AssistsPercentage': None, 'StealsPercentage': None, 'BlocksPercentage': None, 'TurnOversPercentage': None, 'UsageRatePercentage': None, 'FantasyPointsFanDuel': 6173.0, 'FantasyPointsDraftKings': 6231.0, 'FantasyPointsYahoo': 6173.0, 'PlusMinus': -970.1, 'DoubleDoubles': 11.8, 'TripleDoubles': 0.0, 'FantasyPointsFantasyDraft': 6231.0, 'IsClosed': False, 'LineupConfirmed': None, 'LineupStatus': 'Scrambled', 'OpponentStat': {'StatID': 1115443, 'TeamID': 21, 'SeasonType': 1, 'Season': 2024, 'Name': 'Memphis Grizzlies', 'Team': 'MEM', 'Wins': 55, 'Losses': 27, 'OpponentPosition': None, 'Possessions': 2714.3, 'GlobalTeamID': 20000021, 'Updated': '2024-06-25T22:42:38', 'Games': 82, 'FantasyPoints': 6162.7, 'Minutes': 6685, 'Seconds': 2, 'FieldGoalsMade': 1142.8, 'FieldGoalsAttempted': 2409.3, 'FieldGoalsPercentage': 16.0, 'EffectiveFieldGoalsPercentage': 18.6, 'TwoPointersMade': 771.7, 'TwoPointersAttempted': 1427.4, 'TwoPointersPercentage': 18.3, 'ThreePointersMade': 371.1, 'ThreePointersAttempted': 981.9, 'ThreePointersPercentage': 12.8, 'FreeThrowsMade': 470.2, 'FreeThrowsAttempted': 603.3, 'FreeThrowsPercentage': 26.3, 'OffensiveRebounds': 295.4, 'DefensiveRebounds': 969.0, 'Rebounds': 1264.5, 'OffensiveReboundsPercentage': None, 'DefensiveReboundsPercentage': None, 'TotalReboundsPercentage': None, 'Assists': 736.5, 'Steals': 225.8, 'BlockedShots': 181.2, 'Turnovers': 400.2, 'PersonalFouls': 520.2, 'Points': 3126.8, 'TrueShootingAttempts': 2674.7, 'TrueShootingPercentage': 19.8, 'PlayerEfficiencyRating': None, 'AssistsPercentage': None, 'StealsPercentage': None, 'BlocksPercentage': None, 'TurnOversPercentage': None, 'UsageRatePercentage': None, 'FantasyPointsFanDuel': 6569.6, 'FantasyPointsDraftKings': 6659.7, 'FantasyPointsYahoo': 6569.6, 'PlusMinus': 970.4, 'DoubleDoubles': 29.4, 'TripleDoubles': 0.5, 'FantasyPointsFantasyDraft': 6657.7, 'IsClosed': False, 'LineupConfirmed': None, 'LineupStatus': 'Scrambled', 'OpponentStat': None}}, {'StatID': 1115405, 'TeamID': 4, 'SeasonType': 1, 'Season': 2024, 'Name': 'Miami Heat', 'Team': 'MIA', 'Wins': 46, 'Losses': 36, 'OpponentPosition': None, 'Possessions': 2656.1, 'GlobalTeamID': 20000004, 'Updated': '2024-06-25T22:42:38', 'Games': 82, 'FantasyPoints': 5811.1, 'Minutes': 6667, 'Seconds': 3, 'FieldGoalsMade': 1103.9, 'FieldGoalsAttempted': 2373.4, 'FieldGoalsPercentage': 15.7, 'EffectiveFieldGoalsPercentage': 18.2, 'TwoPointersMade': 758.5, 'TwoPointersAttempted': 1438.9, 'TwoPointersPercentage': 17.8, 'ThreePointersMade': 345.4, 'ThreePointersAttempted': 934.6, 'ThreePointersPercentage': 12.5, 'FreeThrowsMade': 499.6, 'FreeThrowsAttempted': 610.4, 'FreeThrowsPercentage': 27.6, 'OffensiveRebounds': 258.9, 'DefensiveRebounds': 913.3, 'Rebounds': 1172.2, 'OffensiveReboundsPercentage': None, 'DefensiveReboundsPercentage': None, 'TotalReboundsPercentage': None, 'Assists': 715.2, 'Steals': 208.5, 'BlockedShots': 94.6, 'Turnovers': 327.5, 'PersonalFouls': 478.3, 'Points': 3052.8, 'TrueShootingAttempts': 2642.0, 'TrueShootingPercentage': 19.5, 'PlayerEfficiencyRating': None, 'AssistsPercentage': None, 'StealsPercentage': None, 'BlocksPercentage': None, 'TurnOversPercentage': None, 'UsageRatePercentage': None, 'FantasyPointsFanDuel': 6114.3, 'FantasyPointsDraftKings': 6241.2, 'FantasyPointsYahoo': 6114.3, 'PlusMinus': 244.7, 'DoubleDoubles': 21.3, 'TripleDoubles': 0.3, 'FantasyPointsFantasyDraft': 6239.6, 'IsClosed': False, 'LineupConfirmed': None, 'LineupStatus': 'Scrambled', 'OpponentStat': {'StatID': 1115429, 'TeamID': 4, 'SeasonType': 1, 'Season': 2024, 'Name': 'Miami Heat', 'Team': 'MIA', 'Wins': 36, 'Losses': 46, 'OpponentPosition': None, 'Possessions': 2656.1, 'GlobalTeamID': 20000004, 'Updated': '2024-06-25T22:42:38', 'Games': 82, 'FantasyPoints': 5795.3, 'Minutes': 6677, 'Seconds': 2, 'FieldGoalsMade': 1114.4, 'FieldGoalsAttempted': 2384.9, 'FieldGoalsPercentage': 15.8, 'EffectiveFieldGoalsPercentage': 18.4, 'TwoPointersMade': 754.8, 'TwoPointersAttempted': 1364.8, 'TwoPointersPercentage': 18.7, 'ThreePointersMade': 359.6, 'ThreePointersAttempted': 1020.1, 'ThreePointersPercentage': 11.9, 'FreeThrowsMade': 415.7, 'FreeThrowsAttempted': 533.0, 'FreeThrowsPercentage': 26.4, 'OffensiveRebounds': 255.9, 'DefensiveRebounds': 929.5, 'Rebounds': 1185.4, 'OffensiveReboundsPercentage': None, 'DefensiveReboundsPercentage': None, 'TotalReboundsPercentage': None, 'Assists': 734.5, 'Steals': 183.5, 'BlockedShots': 131.1, 'Turnovers': 362.3, 'PersonalFouls': 523.9, 'Points': 3004.1, 'TrueShootingAttempts': 2619.5, 'TrueShootingPercentage': 19.4, 'PlayerEfficiencyRating': None, 'AssistsPercentage': None, 'StealsPercentage': None, 'BlocksPercentage': None, 'TurnOversPercentage': None, 'UsageRatePercentage': None, 'FantasyPointsFanDuel': 6110.0, 'FantasyPointsDraftKings': 6256.6, 'FantasyPointsYahoo': 6110.0, 'PlusMinus': -241.3, 'DoubleDoubles': 24.7, 'TripleDoubles': 0.5, 'FantasyPointsFantasyDraft': 6254.6, 'IsClosed': False, 'LineupConfirmed': None, 'LineupStatus': 'Scrambled', 'OpponentStat': None}}, {'StatID': 1116030, 'TeamID': 15, 'SeasonType': 1, 'Season': 2024, 'Name': 'Milwaukee Bucks', 'Team': 'MIL', 'Wins': 49, 'Losses': 33, 'OpponentPosition': None, 'Possessions': 2770.0, 'GlobalTeamID': 20000015, 'Updated': '2024-06-25T22:42:38', 'Games': 82, 'FantasyPoints': 6182.5, 'Minutes': 6690, 'Seconds': 0, 'FieldGoalsMade': 1195.8, 'FieldGoalsAttempted': 2453.2, 'FieldGoalsPercentage': 16.5, 'EffectiveFieldGoalsPercentage': 19.2, 'TwoPointersMade': 802.8, 'TwoPointersAttempted': 1398.0, 'TwoPointersPercentage': 19.4, 'ThreePointersMade': 393.1, 'ThreePointersAttempted': 1055.2, 'ThreePointersPercentage': 12.6, 'FreeThrowsMade': 512.7, 'FreeThrowsAttempted': 662.5, 'FreeThrowsPercentage': 26.2, 'OffensiveRebounds': 260.9, 'DefensiveRebounds': 963.3, 'Rebounds': 1224.2, 'OffensiveReboundsPercentage': None, 'DefensiveReboundsPercentage': None, 'TotalReboundsPercentage': None, 'Assists': 735.5, 'Steals': 188.6, 'BlockedShots': 139.3, 'Turnovers': 343.1, 'PersonalFouls': 532.0, 'Points': 3297.5, 'TrueShootingAttempts': 2744.7, 'TrueShootingPercentage': 20.3, 'PlayerEfficiencyRating': None, 'AssistsPercentage': None, 'StealsPercentage': None, 'BlocksPercentage': None, 'TurnOversPercentage': None, 'UsageRatePercentage': None, 'FantasyPointsFanDuel': 6510.4, 'FantasyPointsDraftKings': 6673.1, 'FantasyPointsYahoo': 6510.4, 'PlusMinus': 367.4, 'DoubleDoubles': 33.5, 'TripleDoubles': 1.3, 'FantasyPointsFantasyDraft': 6667.6, 'IsClosed': False, 'LineupConfirmed': None, 'LineupStatus': 'Scrambled', 'OpponentStat': {'StatID': 1116032, 'TeamID': 15, 'SeasonType': 1, 'Season': 2024, 'Name': 'Milwaukee Bucks', 'Team': 'MIL', 'Wins': 33, 'Losses': 49, 'OpponentPosition': None, 'Possessions': 2770.0, 'GlobalTeamID': 20000015, 'Updated': '2024-06-25T22:42:38', 'Games': 82, 'FantasyPoints': 6098.6, 'Minutes': 6679, 'Seconds': 11, 'FieldGoalsMade': 1197.5, 'FieldGoalsAttempted': 2547.5, 'FieldGoalsPercentage': 15.9, 'EffectiveFieldGoalsPercentage': 18.2, 'TwoPointersMade': 848.7, 'TwoPointersAttempted': 1568.3, 'TwoPointersPercentage': 18.3, 'ThreePointersMade': 348.8, 'ThreePointersAttempted': 979.2, 'ThreePointersPercentage': 12.0, 'FreeThrowsMade': 481.0, 'FreeThrowsAttempted': 596.2, 'FreeThrowsPercentage': 27.3, 'OffensiveRebounds': 284.9, 'DefensiveRebounds': 934.6, 'Rebounds': 1219.5, 'OffensiveReboundsPercentage': None, 'DefensiveReboundsPercentage': None, 'TotalReboundsPercentage': None, 'Assists': 733.1, 'Steals': 196.0, 'BlockedShots': 117.3, 'Turnovers': 316.0, 'PersonalFouls': 532.7, 'Points': 3224.9, 'TrueShootingAttempts': 2809.8, 'TrueShootingPercentage': 19.4, 'PlayerEfficiencyRating': None, 'AssistsPercentage': None, 'StealsPercentage': None, 'BlocksPercentage': None, 'TurnOversPercentage': None, 'UsageRatePercentage': None, 'FantasyPointsFanDuel': 6411.9, 'FantasyPointsDraftKings': 6537.1, 'FantasyPointsYahoo': 6411.9, 'PlusMinus': -366.1, 'DoubleDoubles': 27.4, 'TripleDoubles': 0.5, 'FantasyPointsFantasyDraft': 6535.1, 'IsClosed': False, 'LineupConfirmed': None, 'LineupStatus': 'Scrambled', 'OpponentStat': None}}, {'StatID': 1115415, 'TeamID': 16, 'SeasonType': 1, 'Season': 2024, 'Name': 'Minnesota Timberwolves', 'Team': 'MIN', 'Wins': 56, 'Losses': 26, 'OpponentPosition': None, 'Possessions': 2688.5, 'GlobalTeamID': 20000016, 'Updated': '2024-06-25T22:42:38', 'Games': 82, 'FantasyPoints': 6092.6, 'Minutes': 6694, 'Seconds': 13, 'FieldGoalsMade': 1143.5, 'FieldGoalsAttempted': 2357.2, 'FieldGoalsPercentage': 16.4, 'EffectiveFieldGoalsPercentage': 18.9, 'TwoPointersMade': 792.9, 'TwoPointersAttempted': 1451.0, 'TwoPointersPercentage': 18.5, 'ThreePointersMade': 350.5, 'ThreePointersAttempted': 906.2, 'ThreePointersPercentage': 13.1, 'FreeThrowsMade': 493.8, 'FreeThrowsAttempted': 635.8, 'FreeThrowsPercentage': 26.3, 'OffensiveRebounds': 260.3, 'DefensiveRebounds': 948.8, 'Rebounds': 1209.0, 'OffensiveReboundsPercentage': None, 'DefensiveReboundsPercentage': None, 'TotalReboundsPercentage': None, 'Assists': 738.2, 'Steals': 218.7, 'BlockedShots': 168.0, 'Turnovers': 370.1, 'PersonalFouls': 521.9, 'Points': 3131.2, 'TrueShootingAttempts': 2637.0, 'TrueShootingPercentage': 20.1, 'PlayerEfficiencyRating': None, 'AssistsPercentage': None, 'StealsPercentage': None, 'BlocksPercentage': None, 'TurnOversPercentage': None, 'UsageRatePercentage': None, 'FantasyPointsFanDuel': 6479.3, 'FantasyPointsDraftKings': 6562.0, 'FantasyPointsYahoo': 6479.3, 'PlusMinus': 894.0, 'DoubleDoubles': 32.4, 'TripleDoubles': 0.0, 'FantasyPointsFantasyDraft': 6562.0, 'IsClosed': False, 'LineupConfirmed': None, 'LineupStatus': 'Scrambled', 'OpponentStat': {'StatID': 1115439, 'TeamID': 16, 'SeasonType': 1, 'Season': 2024, 'Name': 'Minnesota Timberwolves', 'Team': 'MIN', 'Wins': 26, 'Losses': 56, 'OpponentPosition': None, 'Possessions': 2688.5, 'GlobalTeamID': 20000016, 'Updated': '2024-06-25T22:42:38', 'Games': 82, 'FantasyPoints': 5639.7, 'Minutes': 6688, 'Seconds': 1, 'FieldGoalsMade': 1080.9, 'FieldGoalsAttempted': 2404.5, 'FieldGoalsPercentage': 15.2, 'EffectiveFieldGoalsPercentage': 17.4, 'TwoPointersMade': 764.2, 'TwoPointersAttempted': 1510.5, 'TwoPointersPercentage': 17.1, 'ThreePointersMade': 316.7, 'ThreePointersAttempted': 894.0, 'ThreePointersPercentage': 12.0, 'FreeThrowsMade': 473.9, 'FreeThrowsAttempted': 606.4, 'FreeThrowsPercentage': 26.4, 'OffensiveRebounds': 284.9, 'DefensiveRebounds': 863.6, 'Rebounds': 1148.5, 'OffensiveReboundsPercentage': None, 'DefensiveReboundsPercentage': None, 'TotalReboundsPercentage': None, 'Assists': 678.7, 'Steals': 208.2, 'BlockedShots': 125.4, 'Turnovers': 376.2, 'PersonalFouls': 550.9, 'Points': 2952.4, 'TrueShootingAttempts': 2671.3, 'TrueShootingPercentage': 18.7, 'PlayerEfficiencyRating': None, 'AssistsPercentage': None, 'StealsPercentage': None, 'BlocksPercentage': None, 'TurnOversPercentage': None, 'UsageRatePercentage': None, 'FantasyPointsFanDuel': 5973.3, 'FantasyPointsDraftKings': 6074.5, 'FantasyPointsYahoo': 5973.3, 'PlusMinus': -894.7, 'DoubleDoubles': 19.9, 'TripleDoubles': 0.1, 'FantasyPointsFantasyDraft': 6074.0, 'IsClosed': False, 'LineupConfirmed': None, 'LineupStatus': 'Scrambled', 'OpponentStat': None}}, {'StatID': 1115421, 'TeamID': 23, 'SeasonType': 1, 'Season': 2024, 'Name': 'New Orleans Pelicans', 'Team': 'NO', 'Wins': 49, 'Losses': 33, 'OpponentPosition': None, 'Possessions': 2696.8, 'GlobalTeamID': 20000023, 'Updated': '2024-06-25T22:42:38', 'Games': 82, 'FantasyPoints': 6145.9, 'Minutes': 6660, 'Seconds': 1, 'FieldGoalsMade': 1177.6, 'FieldGoalsAttempted': 2421.8, 'FieldGoalsPercentage': 16.4, 'EffectiveFieldGoalsPercentage': 18.9, 'TwoPointersMade': 831.8, 'TwoPointersAttempted': 1518.3, 'TwoPointersPercentage': 18.5, 'ThreePointersMade': 345.8, 'ThreePointersAttempted': 903.5, 'ThreePointersPercentage': 12.9, 'FreeThrowsMade': 488.4, 'FreeThrowsAttempted': 633.1, 'FreeThrowsPercentage': 26.1, 'OffensiveRebounds': 288.0, 'DefensiveRebounds': 930.5, 'Rebounds': 1218.5, 'OffensiveReboundsPercentage': None, 'DefensiveReboundsPercentage': None, 'TotalReboundsPercentage': None, 'Assists': 747.0, 'Steals': 231.2, 'BlockedShots': 127.8, 'Turnovers': 344.1, 'PersonalFouls': 509.7, 'Points': 3189.4, 'TrueShootingAttempts': 2700.3, 'TrueShootingPercentage': 20.0, 'PlayerEfficiencyRating': None, 'AssistsPercentage': None, 'StealsPercentage': None, 'BlocksPercentage': None, 'TurnOversPercentage': None, 'UsageRatePercentage': None, 'FantasyPointsFanDuel': 6504.8, 'FantasyPointsDraftKings': 6580.1, 'FantasyPointsYahoo': 6504.8, 'PlusMinus': 612.1, 'DoubleDoubles': 18.3, 'TripleDoubles': 0.1, 'FantasyPointsFantasyDraft': 6579.6, 'IsClosed': False, 'LineupConfirmed': None, 'LineupStatus': 'Scrambled', 'OpponentStat': {'StatID': 1115445, 'TeamID': 23, 'SeasonType': 1, 'Season': 2024, 'Name': 'New Orleans Pelicans', 'Team': 'NO', 'Wins': 33, 'Losses': 49, 'OpponentPosition': None, 'Possessions': 2696.8, 'GlobalTeamID': 20000023, 'Updated': '2024-06-25T22:42:38', 'Games': 82, 'FantasyPoints': 5865.7, 'Minutes': 6660, 'Seconds': 3, 'FieldGoalsMade': 1121.1, 'FieldGoalsAttempted': 2418.4, 'FieldGoalsPercentage': 15.7, 'EffectiveFieldGoalsPercentage': 18.3, 'TwoPointersMade': 746.3, 'TwoPointersAttempted': 1344.9, 'TwoPointersPercentage': 18.8, 'ThreePointersMade': 374.8, 'ThreePointersAttempted': 1073.5, 'ThreePointersPercentage': 11.8, 'FreeThrowsMade': 449.9, 'FreeThrowsAttempted': 574.3, 'FreeThrowsPercentage': 26.5, 'OffensiveRebounds': 279.2, 'DefensiveRebounds': 893.7, 'Rebounds': 1172.9, 'OffensiveReboundsPercentage': None, 'DefensiveReboundsPercentage': None, 'TotalReboundsPercentage': None, 'Assists': 742.2, 'Steals': 181.2, 'BlockedShots': 143.3, 'Turnovers': 371.1, 'PersonalFouls': 509.4, 'Points': 3067.0, 'TrueShootingAttempts': 2671.1, 'TrueShootingPercentage': 19.4, 'PlayerEfficiencyRating': None, 'AssistsPercentage': None, 'StealsPercentage': None, 'BlocksPercentage': None, 'TurnOversPercentage': None, 'UsageRatePercentage': None, 'FantasyPointsFanDuel': 6190.1, 'FantasyPointsDraftKings': 6338.3, 'FantasyPointsYahoo': 6190.1, 'PlusMinus': -611.8, 'DoubleDoubles': 23.3, 'TripleDoubles': 0.7, 'FantasyPointsFantasyDraft': 6335.3, 'IsClosed': False, 'LineupConfirmed': None, 'LineupStatus': 'Scrambled', 'OpponentStat': None}}, {'StatID': 1115407, 'TeamID': 6, 'SeasonType': 1, 'Season': 2024, 'Name': 'New York Knicks', 'Team': 'NY', 'Wins': 50, 'Losses': 32, 'OpponentPosition': None, 'Possessions': 2626.5, 'GlobalTeamID': 20000006, 'Updated': '2024-06-25T22:42:38', 'Games': 82, 'FantasyPoints': 5943.3, 'Minutes': 6668, 'Seconds': 14, 'FieldGoalsMade': 1144.1, 'FieldGoalsAttempted': 2457.9, 'FieldGoalsPercentage': 15.7, 'EffectiveFieldGoalsPercentage': 18.3, 'TwoPointersMade': 778.1, 'TwoPointersAttempted': 1465.6, 'TwoPointersPercentage': 17.9, 'ThreePointersMade': 366.1, 'ThreePointersAttempted': 992.4, 'ThreePointersPercentage': 12.5, 'FreeThrowsMade': 471.8, 'FreeThrowsAttempted': 604.7, 'FreeThrowsPercentage': 26.4, 'OffensiveRebounds': 351.2, 'DefensiveRebounds': 900.8, 'Rebounds': 1252.0, 'OffensiveReboundsPercentage': None, 'DefensiveReboundsPercentage': None, 'TotalReboundsPercentage': None, 'Assists': 675.3, 'Steals': 206.9, 'BlockedShots': 113.6, 'Turnovers': 339.0, 'PersonalFouls': 489.1, 'Points': 3126.2, 'TrueShootingAttempts': 2724.0, 'TrueShootingPercentage': 19.4, 'PlayerEfficiencyRating': None, 'AssistsPercentage': None, 'StealsPercentage': None, 'BlocksPercentage': None, 'TurnOversPercentage': None, 'UsageRatePercentage': None, 'FantasyPointsFanDuel': 6263.7, 'FantasyPointsDraftKings': 6399.5, 'FantasyPointsYahoo': 6263.7, 'PlusMinus': 635.4, 'DoubleDoubles': 22.6, 'TripleDoubles': 0.8, 'FantasyPointsFantasyDraft': 6396.0, 'IsClosed': False, 'LineupConfirmed': None, 'LineupStatus': 'Scrambled', 'OpponentStat': {'StatID': 1115431, 'TeamID': 6, 'SeasonType': 1, 'Season': 2024, 'Name': 'New York Knicks', 'Team': 'NY', 'Wins': 32, 'Losses': 50, 'OpponentPosition': None, 'Possessions': 2626.5, 'GlobalTeamID': 20000006, 'Updated': '2024-06-25T22:42:38', 'Games': 82, 'FantasyPoints': 5721.4, 'Minutes': 6668, 'Seconds': 3, 'FieldGoalsMade': 1116.8, 'FieldGoalsAttempted': 2374.8, 'FieldGoalsPercentage': 15.9, 'EffectiveFieldGoalsPercentage': 18.4, 'TwoPointersMade': 769.3, 'TwoPointersAttempted': 1424.0, 'TwoPointersPercentage': 18.3, 'ThreePointersMade': 347.5, 'ThreePointersAttempted': 950.8, 'ThreePointersPercentage': 12.3, 'FreeThrowsMade': 418.1, 'FreeThrowsAttempted': 547.6, 'FreeThrowsPercentage': 25.8, 'OffensiveRebounds': 283.6, 'DefensiveRebounds': 842.3, 'Rebounds': 1125.9, 'OffensiveReboundsPercentage': None, 'DefensiveReboundsPercentage': None, 'TotalReboundsPercentage': None, 'Assists': 709.1, 'Steals': 186.6, 'BlockedShots': 145.3, 'Turnovers': 356.3, 'PersonalFouls': 529.0, 'Points': 2999.1, 'TrueShootingAttempts': 2615.7, 'TrueShootingPercentage': 19.4, 'PlayerEfficiencyRating': None, 'AssistsPercentage': None, 'StealsPercentage': None, 'BlocksPercentage': None, 'TurnOversPercentage': None, 'UsageRatePercentage': None, 'FantasyPointsFanDuel': 6053.3, 'FantasyPointsDraftKings': 6161.5, 'FantasyPointsYahoo': 6053.3, 'PlusMinus': -635.4, 'DoubleDoubles': 19.3, 'TripleDoubles': 0.3, 'FantasyPointsFantasyDraft': 6160.0, 'IsClosed': False, 'LineupConfirmed': None, 'LineupStatus': 'Scrambled', 'OpponentStat': None}}, {'StatID': 1115417, 'TeamID': 18, 'SeasonType': 1, 'Season': 2024, 'Name': 'Oklahoma City Thunder', 'Team': 'OKC', 'Wins': 57, 'Losses': 25, 'OpponentPosition': None, 'Possessions': 2763.6, 'GlobalTeamID': 20000018, 'Updated': '2024-06-25T22:42:38', 'Games': 82, 'FantasyPoints': 6358.4, 'Minutes': 6692, 'Seconds': 1, 'FieldGoalsMade': 1234.7, 'FieldGoalsAttempted': 2475.5, 'FieldGoalsPercentage': 16.9, 'EffectiveFieldGoalsPercentage': 19.4, 'TwoPointersMade': 866.3, 'TwoPointersAttempted': 1527.4, 'TwoPointersPercentage': 19.2, 'ThreePointersMade': 368.4, 'ThreePointersAttempted': 948.1, 'ThreePointersPercentage': 13.1, 'FreeThrowsMade': 490.4, 'FreeThrowsAttempted': 594.5, 'FreeThrowsPercentage': 27.9, 'OffensiveRebounds': 244.0, 'DefensiveRebounds': 921.0, 'Rebounds': 1165.1, 'OffensiveReboundsPercentage': None, 'DefensiveReboundsPercentage': None, 'TotalReboundsPercentage': None, 'Assists': 751.4, 'Steals': 234.6, 'BlockedShots': 181.8, 'Turnovers': 327.9, 'PersonalFouls': 522.2, 'Points': 3328.3, 'TrueShootingAttempts': 2737.1, 'TrueShootingPercentage': 20.6, 'PlayerEfficiencyRating': None, 'AssistsPercentage': None, 'StealsPercentage': None, 'BlocksPercentage': None, 'TurnOversPercentage': None, 'UsageRatePercentage': None, 'FantasyPointsFanDuel': 6774.8, 'FantasyPointsDraftKings': 6790.2, 'FantasyPointsYahoo': 6774.8, 'PlusMinus': 1023.5, 'DoubleDoubles': 14.9, 'TripleDoubles': 0.3, 'FantasyPointsFantasyDraft': 6788.6, 'IsClosed': False, 'LineupConfirmed': None, 'LineupStatus': 'Scrambled', 'OpponentStat': {'StatID': 1115441, 'TeamID': 18, 'SeasonType': 1, 'Season': 2024, 'Name': 'Oklahoma City Thunder', 'Team': 'OKC', 'Wins': 25, 'Losses': 57, 'OpponentPosition': None, 'Possessions': 2763.6, 'GlobalTeamID': 20000018, 'Updated': '2024-06-25T22:42:38', 'Games': 82, 'FantasyPoints': 5987.7, 'Minutes': 6694, 'Seconds': 12, 'FieldGoalsMade': 1124.9, 'FieldGoalsAttempted': 2474.8, 'FieldGoalsPercentage': 15.4, 'EffectiveFieldGoalsPercentage': 17.9, 'TwoPointersMade': 752.7, 'TwoPointersAttempted': 1443.3, 'TwoPointersPercentage': 17.6, 'ThreePointersMade': 372.1, 'ThreePointersAttempted': 1031.6, 'ThreePointersPercentage': 12.2, 'FreeThrowsMade': 500.9, 'FreeThrowsAttempted': 634.8, 'FreeThrowsPercentage': 26.7, 'OffensiveRebounds': 327.2, 'DefensiveRebounds': 910.9, 'Rebounds': 1238.1, 'OffensiveReboundsPercentage': None, 'DefensiveReboundsPercentage': None, 'TotalReboundsPercentage': None, 'Assists': 746.0, 'Steals': 196.7, 'BlockedShots': 141.6, 'Turnovers': 416.4, 'PersonalFouls': 523.2, 'Points': 3122.8, 'TrueShootingAttempts': 2754.1, 'TrueShootingPercentage': 19.2, 'PlayerEfficiencyRating': None, 'AssistsPercentage': None, 'StealsPercentage': None, 'BlocksPercentage': None, 'TurnOversPercentage': None, 'UsageRatePercentage': None, 'FantasyPointsFanDuel': 6326.0, 'FantasyPointsDraftKings': 6489.5, 'FantasyPointsYahoo': 6326.0, 'PlusMinus': -1027.5, 'DoubleDoubles': 27.7, 'TripleDoubles': 0.5, 'FantasyPointsFantasyDraft': 6487.5, 'IsClosed': False, 'LineupConfirmed': None, 'LineupStatus': 'Scrambled', 'OpponentStat': None}}, {'StatID': 1115406, 'TeamID': 5, 'SeasonType': 1, 'Season': 2024, 'Name': 'Orlando Magic', 'Team': 'ORL', 'Wins': 47, 'Losses': 35, 'OpponentPosition': None, 'Possessions': 2678.3, 'GlobalTeamID': 20000005, 'Updated': '2024-06-25T22:42:38', 'Games': 82, 'FantasyPoints': 5850.5, 'Minutes': 6685, 'Seconds': 3, 'FieldGoalsMade': 1121.5, 'FieldGoalsAttempted': 2353.8, 'FieldGoalsPercentage': 16.1, 'EffectiveFieldGoalsPercentage': 18.3, 'TwoPointersMade': 816.3, 'TwoPointersAttempted': 1485.8, 'TwoPointersPercentage': 18.6, 'ThreePointersMade': 305.2, 'ThreePointersAttempted': 868.0, 'ThreePointersPercentage': 11.9, 'FreeThrowsMade': 513.4, 'FreeThrowsAttempted': 676.7, 'FreeThrowsPercentage': 25.7, 'OffensiveRebounds': 291.0, 'DefensiveRebounds': 881.5, 'Rebounds': 1172.5, 'OffensiveReboundsPercentage': None, 'DefensiveReboundsPercentage': None, 'TotalReboundsPercentage': None, 'Assists': 683.8, 'Steals': 226.1, 'BlockedShots': 143.0, 'Turnovers': 381.9, 'PersonalFouls': 546.9, 'Points': 3061.6, 'TrueShootingAttempts': 2651.6, 'TrueShootingPercentage': 19.5, 'PlayerEfficiencyRating': None, 'AssistsPercentage': None, 'StealsPercentage': None, 'BlocksPercentage': None, 'TurnOversPercentage': None, 'UsageRatePercentage': None, 'FantasyPointsFanDuel': 6219.6, 'FantasyPointsDraftKings': 6273.0, 'FantasyPointsYahoo': 6219.6, 'PlusMinus': 281.9, 'DoubleDoubles': 12.2, 'TripleDoubles': 0.2, 'FantasyPointsFantasyDraft': 6272.0, 'IsClosed': False, 'LineupConfirmed': None, 'LineupStatus': 'Scrambled', 'OpponentStat': {'StatID': 1115430, 'TeamID': 5, 'SeasonType': 1, 'Season': 2024, 'Name': 'Orlando Magic', 'Team': 'ORL', 'Wins': 35, 'Losses': 47, 'OpponentPosition': None, 'Possessions': 2678.3, 'GlobalTeamID': 20000005, 'Updated': '2024-06-25T22:42:38', 'Games': 82, 'FantasyPoints': 5632.0, 'Minutes': 6685, 'Seconds': 11, 'FieldGoalsMade': 1103.2, 'FieldGoalsAttempted': 2326.8, 'FieldGoalsPercentage': 16.0, 'EffectiveFieldGoalsPercentage': 18.4, 'TwoPointersMade': 783.8, 'TwoPointersAttempted': 1435.8, 'TwoPointersPercentage': 18.5, 'ThreePointersMade': 319.4, 'ThreePointersAttempted': 891.0, 'ThreePointersPercentage': 12.1, 'FreeThrowsMade': 479.6, 'FreeThrowsAttempted': 614.8, 'FreeThrowsPercentage': 26.4, 'OffensiveRebounds': 247.1, 'DefensiveRebounds': 857.5, 'Rebounds': 1104.6, 'OffensiveReboundsPercentage': None, 'DefensiveReboundsPercentage': None, 'TotalReboundsPercentage': None, 'Assists': 661.8, 'Steals': 225.1, 'BlockedShots': 128.1, 'Turnovers': 398.2, 'PersonalFouls': 578.0, 'Points': 3005.5, 'TrueShootingAttempts': 2597.3, 'TrueShootingPercentage': 19.6, 'PlayerEfficiencyRating': None, 'AssistsPercentage': None, 'StealsPercentage': None, 'BlocksPercentage': None, 'TurnOversPercentage': None, 'UsageRatePercentage': None, 'FantasyPointsFanDuel': 5985.2, 'FantasyPointsDraftKings': 6076.4, 'FantasyPointsYahoo': 5985.2, 'PlusMinus': -280.5, 'DoubleDoubles': 18.9, 'TripleDoubles': 0.2, 'FantasyPointsFantasyDraft': 6075.4, 'IsClosed': False, 'LineupConfirmed': None, 'LineupStatus': 'Scrambled', 'OpponentStat': None}}, {'StatID': 1116029, 'TeamID': 7, 'SeasonType': 1, 'Season': 2024, 'Name': 'Philadelphia 76ers', 'Team': 'PHI', 'Wins': 47, 'Losses': 35, 'OpponentPosition': None, 'Possessions': 2697.4, 'GlobalTeamID': 20000007, 'Updated': '2024-06-25T22:42:38', 'Games': 82, 'FantasyPoints': 6128.9, 'Minutes': 6685, 'Seconds': 13, 'FieldGoalsMade': 1150.6, 'FieldGoalsAttempted': 2477.9, 'FieldGoalsPercentage': 15.7, 'EffectiveFieldGoalsPercentage': 18.0, 'TwoPointersMade': 815.3, 'TwoPointersAttempted': 1554.1, 'TwoPointersPercentage': 17.7, 'ThreePointersMade': 335.3, 'ThreePointersAttempted': 923.8, 'ThreePointersPercentage': 12.3, 'FreeThrowsMade': 539.8, 'FreeThrowsAttempted': 653.7, 'FreeThrowsPercentage': 27.9, 'OffensiveRebounds': 306.2, 'DefensiveRebounds': 884.2, 'Rebounds': 1190.4, 'OffensiveReboundsPercentage': None, 'DefensiveReboundsPercentage': None, 'TotalReboundsPercentage': None, 'Assists': 689.9, 'Steals': 234.6, 'BlockedShots': 166.3, 'Turnovers': 312.3, 'PersonalFouls': 563.8, 'Points': 3176.2, 'TrueShootingAttempts': 2765.5, 'TrueShootingPercentage': 19.4, 'PlayerEfficiencyRating': None, 'AssistsPercentage': None, 'StealsPercentage': None, 'BlocksPercentage': None, 'TurnOversPercentage': None, 'UsageRatePercentage': None, 'FantasyPointsFanDuel': 6529.8, 'FantasyPointsDraftKings': 6548.8, 'FantasyPointsYahoo': 6529.8, 'PlusMinus': 422.5, 'DoubleDoubles': 23.0, 'TripleDoubles': 0.2, 'FantasyPointsFantasyDraft': 6547.7, 'IsClosed': False, 'LineupConfirmed': None, 'LineupStatus': 'Scrambled', 'OpponentStat': {'StatID': 1116031, 'TeamID': 7, 'SeasonType': 1, 'Season': 2024, 'Name': 'Philadelphia 76ers', 'Team': 'PHI', 'Wins': 35, 'Losses': 47, 'OpponentPosition': None, 'Possessions': 2697.4, 'GlobalTeamID': 20000007, 'Updated': '2024-06-25T22:42:38', 'Games': 82, 'FantasyPoints': 5952.0, 'Minutes': 6685, 'Seconds': 11, 'FieldGoalsMade': 1122.8, 'FieldGoalsAttempted': 2399.1, 'FieldGoalsPercentage': 15.8, 'EffectiveFieldGoalsPercentage': 18.2, 'TwoPointersMade': 791.9, 'TwoPointersAttempted': 1464.6, 'TwoPointersPercentage': 18.3, 'ThreePointersMade': 330.9, 'ThreePointersAttempted': 934.6, 'ThreePointersPercentage': 12.0, 'FreeThrowsMade': 515.1, 'FreeThrowsAttempted': 651.0, 'FreeThrowsPercentage': 26.7, 'OffensiveRebounds': 305.2, 'DefensiveRebounds': 926.8, 'Rebounds': 1232.0, 'OffensiveReboundsPercentage': None, 'DefensiveReboundsPercentage': None, 'TotalReboundsPercentage': None, 'Assists': 724.3, 'Steals': 171.0, 'BlockedShots': 170.0, 'Turnovers': 386.7, 'PersonalFouls': 513.4, 'Points': 3091.7, 'TrueShootingAttempts': 2685.6, 'TrueShootingPercentage': 19.5, 'PlayerEfficiencyRating': None, 'AssistsPercentage': None, 'StealsPercentage': None, 'BlocksPercentage': None, 'TurnOversPercentage': None, 'UsageRatePercentage': None, 'FantasyPointsFanDuel': 6293.1, 'FantasyPointsDraftKings': 6419.0, 'FantasyPointsYahoo': 6293.1, 'PlusMinus': -422.5, 'DoubleDoubles': 28.4, 'TripleDoubles': 0.5, 'FantasyPointsFantasyDraft': 6417.0, 'IsClosed': False, 'LineupConfirmed': None, 'LineupStatus': 'Scrambled', 'OpponentStat': None}}, {'StatID': 1114301, 'TeamID': 29, 'SeasonType': 1, 'Season': 2024, 'Name': 'Phoenix Suns', 'Team': 'PHO', 'Wins': 49, 'Losses': 33, 'OpponentPosition': None, 'Possessions': 2717.4, 'GlobalTeamID': 20000029, 'Updated': '2024-06-25T22:42:38', 'Games': 82, 'FantasyPoints': 6166.4, 'Minutes': 6685, 'Seconds': 14, 'FieldGoalsMade': 1176.9, 'FieldGoalsAttempted': 2387.3, 'FieldGoalsPercentage': 16.7, 'EffectiveFieldGoalsPercentage': 19.1, 'TwoPointersMade': 832.2, 'TwoPointersAttempted': 1484.5, 'TwoPointersPercentage': 19.0, 'ThreePointersMade': 344.8, 'ThreePointersAttempted': 902.8, 'ThreePointersPercentage': 12.9, 'FreeThrowsMade': 523.2, 'FreeThrowsAttempted': 647.3, 'FreeThrowsPercentage': 27.3, 'OffensiveRebounds': 280.9, 'DefensiveRebounds': 940.7, 'Rebounds': 1221.5, 'OffensiveReboundsPercentage': None, 'DefensiveReboundsPercentage': None, 'TotalReboundsPercentage': None, 'Assists': 749.7, 'Steals': 206.2, 'BlockedShots': 166.3, 'Turnovers': 390.7, 'PersonalFouls': 498.6, 'Points': 3221.8, 'TrueShootingAttempts': 2672.1, 'TrueShootingPercentage': 20.4, 'PlayerEfficiencyRating': None, 'AssistsPercentage': None, 'StealsPercentage': None, 'BlocksPercentage': None, 'TurnOversPercentage': None, 'UsageRatePercentage': None, 'FantasyPointsFanDuel': 6538.9, 'FantasyPointsDraftKings': 6628.7, 'FantasyPointsYahoo': 6538.9, 'PlusMinus': 424.2, 'DoubleDoubles': 21.6, 'TripleDoubles': 0.1, 'FantasyPointsFantasyDraft': 6628.2, 'IsClosed': False, 'LineupConfirmed': None, 'LineupStatus': 'Scrambled', 'OpponentStat': {'StatID': 1114303, 'TeamID': 29, 'SeasonType': 1, 'Season': 2024, 'Name': 'Phoenix Suns', 'Team': 'PHO', 'Wins': 33, 'Losses': 49, 'OpponentPosition': None, 'Possessions': 2717.4, 'GlobalTeamID': 20000029, 'Updated': '2024-06-25T22:42:38', 'Games': 82, 'FantasyPoints': 5986.0, 'Minutes': 6685, 'Seconds': 13, 'FieldGoalsMade': 1164.1, 'FieldGoalsAttempted': 2510.7, 'FieldGoalsPercentage': 15.7, 'EffectiveFieldGoalsPercentage': 18.1, 'TwoPointersMade': 801.1, 'TwoPointersAttempted': 1513.9, 'TwoPointersPercentage': 17.9, 'ThreePointersMade': 363.0, 'ThreePointersAttempted': 996.8, 'ThreePointersPercentage': 12.3, 'FreeThrowsMade': 445.8, 'FreeThrowsAttempted': 576.3, 'FreeThrowsPercentage': 26.2, 'OffensiveRebounds': 303.5, 'DefensiveRebounds': 841.6, 'Rebounds': 1145.1, 'OffensiveReboundsPercentage': None, 'DefensiveReboundsPercentage': None, 'TotalReboundsPercentage': None, 'Assists': 728.4, 'Steals': 231.5, 'BlockedShots': 125.7, 'Turnovers': 332.3, 'PersonalFouls': 544.9, 'Points': 3137.0, 'TrueShootingAttempts': 2764.2, 'TrueShootingPercentage': 19.2, 'PlayerEfficiencyRating': None, 'AssistsPercentage': None, 'StealsPercentage': None, 'BlocksPercentage': None, 'TurnOversPercentage': None, 'UsageRatePercentage': None, 'FantasyPointsFanDuel': 6343.3, 'FantasyPointsDraftKings': 6432.5, 'FantasyPointsYahoo': 6343.3, 'PlusMinus': -424.2, 'DoubleDoubles': 25.0, 'TripleDoubles': 0.5, 'FantasyPointsFantasyDraft': 6430.4, 'IsClosed': False, 'LineupConfirmed': None, 'LineupStatus': 'Scrambled', 'OpponentStat': None}}, {'StatID': 1115418, 'TeamID': 19, 'SeasonType': 1, 'Season': 2024, 'Name': 'Portland Trail Blazers', 'Team': 'POR', 'Wins': 21, 'Losses': 61, 'OpponentPosition': None, 'Possessions': 2698.5, 'GlobalTeamID': 20000019, 'Updated': '2024-06-25T22:42:38', 'Games': 82, 'FantasyPoints': 5593.6, 'Minutes': 6719, 'Seconds': 14, 'FieldGoalsMade': 1090.7, 'FieldGoalsAttempted': 2486.3, 'FieldGoalsPercentage': 14.8, 'EffectiveFieldGoalsPercentage': 17.0, 'TwoPointersMade': 773.3, 'TwoPointersAttempted': 1566.0, 'TwoPointersPercentage': 16.7, 'ThreePointersMade': 317.4, 'ThreePointersAttempted': 920.4, 'ThreePointersPercentage': 11.7, 'FreeThrowsMade': 449.2, 'FreeThrowsAttempted': 567.8, 'FreeThrowsPercentage': 26.7, 'OffensiveRebounds': 350.2, 'DefensiveRebounds': 834.5, 'Rebounds': 1184.7, 'OffensiveReboundsPercentage': None, 'DefensiveReboundsPercentage': None, 'TotalReboundsPercentage': None, 'Assists': 640.2, 'Steals': 211.9, 'BlockedShots': 119.7, 'Turnovers': 399.5, 'PersonalFouls': 559.1, 'Points': 2948.0, 'TrueShootingAttempts': 2736.2, 'TrueShootingPercentage': 18.2, 'PlayerEfficiencyRating': None, 'AssistsPercentage': None, 'StealsPercentage': None, 'BlocksPercentage': None, 'TurnOversPercentage': None, 'UsageRatePercentage': None, 'FantasyPointsFanDuel': 5925.1, 'FantasyPointsDraftKings': 6045.7, 'FantasyPointsYahoo': 5925.1, 'PlusMinus': -1250.6, 'DoubleDoubles': 23.0, 'TripleDoubles': 0.0, 'FantasyPointsFantasyDraft': 6045.7, 'IsClosed': False, 'LineupConfirmed': None, 'LineupStatus': 'Scrambled', 'OpponentStat': {'StatID': 1115442, 'TeamID': 19, 'SeasonType': 1, 'Season': 2024, 'Name': 'Portland Trail Blazers', 'Team': 'POR', 'Wins': 61, 'Losses': 21, 'OpponentPosition': None, 'Possessions': 2698.5, 'GlobalTeamID': 20000019, 'Updated': '2024-06-25T22:42:38', 'Games': 82, 'FantasyPoints': 6261.2, 'Minutes': 6715, 'Seconds': 19, 'FieldGoalsMade': 1177.9, 'FieldGoalsAttempted': 2401.2, 'FieldGoalsPercentage': 16.6, 'EffectiveFieldGoalsPercentage': 18.9, 'TwoPointersMade': 854.5, 'TwoPointersAttempted': 1478.4, 'TwoPointersPercentage': 19.5, 'ThreePointersMade': 323.5, 'ThreePointersAttempted': 922.7, 'ThreePointersPercentage': 11.9, 'FreeThrowsMade': 518.8, 'FreeThrowsAttempted': 655.0, 'FreeThrowsPercentage': 26.8, 'OffensiveRebounds': 293.4, 'DefensiveRebounds': 921.4, 'Rebounds': 1214.8, 'OffensiveReboundsPercentage': None, 'DefensiveReboundsPercentage': None, 'TotalReboundsPercentage': None, 'Assists': 752.0, 'Steals': 246.4, 'BlockedShots': 178.5, 'Turnovers': 372.5, 'PersonalFouls': 495.8, 'Points': 3198.2, 'TrueShootingAttempts': 2689.4, 'TrueShootingPercentage': 20.1, 'PlayerEfficiencyRating': None, 'AssistsPercentage': None, 'StealsPercentage': None, 'BlocksPercentage': None, 'TurnOversPercentage': None, 'UsageRatePercentage': None, 'FantasyPointsFanDuel': 6686.1, 'FantasyPointsDraftKings': 6709.5, 'FantasyPointsYahoo': 6686.1, 'PlusMinus': 1248.9, 'DoubleDoubles': 23.7, 'TripleDoubles': 0.5, 'FantasyPointsFantasyDraft': 6707.4, 'IsClosed': False, 'LineupConfirmed': None, 'LineupStatus': 'Scrambled', 'OpponentStat': None}}, {'StatID': 1115422, 'TeamID': 24, 'SeasonType': 1, 'Season': 2024, 'Name': 'San Antonio Spurs', 'Team': 'SA', 'Wins': 22, 'Losses': 60, 'OpponentPosition': None, 'Possessions': 2806.5, 'GlobalTeamID': 20000024, 'Updated': '2024-06-25T22:42:38', 'Games': 82, 'FantasyPoints': 6161.0, 'Minutes': 6702, 'Seconds': 17, 'FieldGoalsMade': 1162.0, 'FieldGoalsAttempted': 2513.4, 'FieldGoalsPercentage': 15.6, 'EffectiveFieldGoalsPercentage': 18.0, 'TwoPointersMade': 811.9, 'TwoPointersAttempted': 1505.1, 'TwoPointersPercentage': 18.2, 'ThreePointersMade': 350.2, 'ThreePointersAttempted': 1008.3, 'ThreePointersPercentage': 11.7, 'FreeThrowsMade': 432.6, 'FreeThrowsAttempted': 553.3, 'FreeThrowsPercentage': 26.4, 'OffensiveRebounds': 287.0, 'DefensiveRebounds': 939.0, 'Rebounds': 1225.9, 'OffensiveReboundsPercentage': None, 'DefensiveReboundsPercentage': None, 'TotalReboundsPercentage': None, 'Assists': 827.8, 'Steals': 197.4, 'BlockedShots': 175.8, 'Turnovers': 404.9, 'PersonalFouls': 477.9, 'Points': 3106.9, 'TrueShootingAttempts': 2756.8, 'TrueShootingPercentage': 19.0, 'PlayerEfficiencyRating': None, 'AssistsPercentage': None, 'StealsPercentage': None, 'BlocksPercentage': None, 'TurnOversPercentage': None, 'UsageRatePercentage': None, 'FantasyPointsFanDuel': 6534.2, 'FantasyPointsDraftKings': 6638.4, 'FantasyPointsYahoo': 6534.2, 'PlusMinus': -899.1, 'DoubleDoubles': 23.7, 'TripleDoubles': 0.3, 'FantasyPointsFantasyDraft': 6636.9, 'IsClosed': False, 'LineupConfirmed': None, 'LineupStatus': 'Scrambled', 'OpponentStat': {'StatID': 1115446, 'TeamID': 24, 'SeasonType': 1, 'Season': 2024, 'Name': 'San Antonio Spurs', 'Team': 'SA', 'Wins': 60, 'Losses': 22, 'OpponentPosition': None, 'Possessions': 2806.5, 'GlobalTeamID': 20000024, 'Updated': '2024-06-25T22:42:38', 'Games': 82, 'FantasyPoints': 6359.6, 'Minutes': 6702, 'Seconds': 12, 'FieldGoalsMade': 1245.2, 'FieldGoalsAttempted': 2558.7, 'FieldGoalsPercentage': 16.5, 'EffectiveFieldGoalsPercentage': 18.8, 'TwoPointersMade': 893.7, 'TwoPointersAttempted': 1615.3, 'TwoPointersPercentage': 18.7, 'ThreePointersMade': 351.5, 'ThreePointersAttempted': 943.4, 'ThreePointersPercentage': 12.6, 'FreeThrowsMade': 444.8, 'FreeThrowsAttempted': 567.5, 'FreeThrowsPercentage': 26.5, 'OffensiveRebounds': 290.7, 'DefensiveRebounds': 965.7, 'Rebounds': 1256.3, 'OffensiveReboundsPercentage': None, 'DefensiveReboundsPercentage': None, 'TotalReboundsPercentage': None, 'Assists': 776.0, 'Steals': 247.8, 'BlockedShots': 128.4, 'Turnovers': 351.2, 'PersonalFouls': 496.9, 'Points': 3286.7, 'TrueShootingAttempts': 2808.4, 'TrueShootingPercentage': 19.8, 'PlayerEfficiencyRating': None, 'AssistsPercentage': None, 'StealsPercentage': None, 'BlocksPercentage': None, 'TurnOversPercentage': None, 'UsageRatePercentage': None, 'FantasyPointsFanDuel': 6735.8, 'FantasyPointsDraftKings': 6823.0, 'FantasyPointsYahoo': 6735.8, 'PlusMinus': 899.1, 'DoubleDoubles': 28.7, 'TripleDoubles': 0.7, 'FantasyPointsFantasyDraft': 6819.9, 'IsClosed': False, 'LineupConfirmed': None, 'LineupStatus': 'Scrambled', 'OpponentStat': None}}, {'StatID': 1115425, 'TeamID': 30, 'SeasonType': 1, 'Season': 2024, 'Name': 'Sacramento Kings', 'Team': 'SAC', 'Wins': 46, 'Losses': 36, 'OpponentPosition': None, 'Possessions': 2745.5, 'GlobalTeamID': 20000030, 'Updated': '2024-06-25T22:42:38', 'Games': 82, 'FantasyPoints': 6177.8, 'Minutes': 6711, 'Seconds': 3, 'FieldGoalsMade': 1200.9, 'FieldGoalsAttempted': 2519.8, 'FieldGoalsPercentage': 16.1, 'EffectiveFieldGoalsPercentage': 18.8, 'TwoPointersMade': 802.8, 'TwoPointersAttempted': 1431.8, 'TwoPointersPercentage': 19.0, 'ThreePointersMade': 398.2, 'ThreePointersAttempted': 1088.0, 'ThreePointersPercentage': 12.4, 'FreeThrowsMade': 430.6, 'FreeThrowsAttempted': 578.0, 'FreeThrowsPercentage': 25.2, 'OffensiveRebounds': 300.1, 'DefensiveRebounds': 919.0, 'Rebounds': 1219.2, 'OffensiveReboundsPercentage': None, 'DefensiveReboundsPercentage': None, 'TotalReboundsPercentage': None, 'Assists': 785.5, 'Steals': 211.2, 'BlockedShots': 115.6, 'Turnovers': 347.8, 'PersonalFouls': 551.6, 'Points': 3230.6, 'TrueShootingAttempts': 2774.1, 'TrueShootingPercentage': 19.7, 'PlayerEfficiencyRating': None, 'AssistsPercentage': None, 'StealsPercentage': None, 'BlocksPercentage': None, 'TurnOversPercentage': None, 'UsageRatePercentage': None, 'FantasyPointsFanDuel': 6504.6, 'FantasyPointsDraftKings': 6686.7, 'FantasyPointsYahoo': 6504.6, 'PlusMinus': 241.7, 'DoubleDoubles': 32.4, 'TripleDoubles': 3.0, 'FantasyPointsFantasyDraft': 6673.6, 'IsClosed': False, 'LineupConfirmed': None, 'LineupStatus': 'Scrambled', 'OpponentStat': {'StatID': 1115449, 'TeamID': 30, 'SeasonType': 1, 'Season': 2024, 'Name': 'Sacramento Kings', 'Team': 'SAC', 'Wins': 36, 'Losses': 46, 'OpponentPosition': None, 'Possessions': 2745.5, 'GlobalTeamID': 20000030, 'Updated': '2024-06-25T22:42:38', 'Games': 82, 'FantasyPoints': 6010.1, 'Minutes': 6711, 'Seconds': 3, 'FieldGoalsMade': 1153.9, 'FieldGoalsAttempted': 2404.5, 'FieldGoalsPercentage': 16.2, 'EffectiveFieldGoalsPercentage': 18.8, 'TwoPointersMade': 790.9, 'TwoPointersAttempted': 1466.6, 'TwoPointersPercentage': 18.2, 'ThreePointersMade': 363.0, 'ThreePointersAttempted': 938.0, 'ThreePointersPercentage': 13.1, 'FreeThrowsMade': 511.4, 'FreeThrowsAttempted': 639.5, 'FreeThrowsPercentage': 27.0, 'OffensiveRebounds': 252.5, 'DefensiveRebounds': 926.1, 'Rebounds': 1178.6, 'OffensiveReboundsPercentage': None, 'DefensiveReboundsPercentage': None, 'TotalReboundsPercentage': None, 'Assists': 746.3, 'Steals': 204.8, 'BlockedShots': 125.1, 'Turnovers': 365.7, 'PersonalFouls': 508.4, 'Points': 3182.3, 'TrueShootingAttempts': 2685.9, 'TrueShootingPercentage': 20.0, 'PlayerEfficiencyRating': None, 'AssistsPercentage': None, 'StealsPercentage': None, 'BlocksPercentage': None, 'TurnOversPercentage': None, 'UsageRatePercentage': None, 'FantasyPointsFanDuel': 6340.0, 'FantasyPointsDraftKings': 6471.4, 'FantasyPointsYahoo': 6340.0, 'PlusMinus': -241.7, 'DoubleDoubles': 22.0, 'TripleDoubles': 0.6, 'FantasyPointsFantasyDraft': 6468.9, 'IsClosed': False, 'LineupConfirmed': None, 'LineupStatus': 'Scrambled', 'OpponentStat': None}}, {'StatID': 1115410, 'TeamID': 10, 'SeasonType': 1, 'Season': 2024, 'Name': 'Toronto Raptors', 'Team': 'TOR', 'Wins': 25, 'Losses': 57, 'OpponentPosition': None, 'Possessions': 2753.9, 'GlobalTeamID': 20000010, 'Updated': '2024-06-25T22:42:38', 'Games': 82, 'FantasyPoints': 6035.4, 'Minutes': 6694, 'Seconds': 12, 'FieldGoalsMade': 1171.5, 'FieldGoalsAttempted': 2486.3, 'FieldGoalsPercentage': 15.9, 'EffectiveFieldGoalsPercentage': 18.1, 'TwoPointersMade': 853.1, 'TwoPointersAttempted': 1569.7, 'TwoPointersPercentage': 18.4, 'ThreePointersMade': 318.4, 'ThreePointersAttempted': 916.7, 'ThreePointersPercentage': 11.7, 'FreeThrowsMade': 452.6, 'FreeThrowsAttempted': 598.9, 'FreeThrowsPercentage': 25.6, 'OffensiveRebounds': 301.2, 'DefensiveRebounds': 881.2, 'Rebounds': 1182.3, 'OffensiveReboundsPercentage': None, 'DefensiveReboundsPercentage': None, 'TotalReboundsPercentage': None, 'Assists': 789.2, 'Steals': 214.3, 'BlockedShots': 131.1, 'Turnovers': 372.1, 'PersonalFouls': 510.0, 'Points': 3114.0, 'TrueShootingAttempts': 2749.9, 'TrueShootingPercentage': 19.1, 'PlayerEfficiencyRating': None, 'AssistsPercentage': None, 'StealsPercentage': None, 'BlocksPercentage': None, 'TurnOversPercentage': None, 'UsageRatePercentage': None, 'FantasyPointsFanDuel': 6380.8, 'FantasyPointsDraftKings': 6481.8, 'FantasyPointsYahoo': 6380.8, 'PlusMinus': -892.3, 'DoubleDoubles': 25.4, 'TripleDoubles': 0.5, 'FantasyPointsFantasyDraft': 6479.8, 'IsClosed': False, 'LineupConfirmed': None, 'LineupStatus': 'Scrambled', 'OpponentStat': {'StatID': 1115434, 'TeamID': 10, 'SeasonType': 1, 'Season': 2024, 'Name': 'Toronto Raptors', 'Team': 'TOR', 'Wins': 57, 'Losses': 25, 'OpponentPosition': None, 'Possessions': 2753.9, 'GlobalTeamID': 20000010, 'Updated': '2024-06-25T22:42:38', 'Games': 82, 'FantasyPoints': 6344.2, 'Minutes': 6694, 'Seconds': 12, 'FieldGoalsMade': 1240.1, 'FieldGoalsAttempted': 2526.9, 'FieldGoalsPercentage': 16.6, 'EffectiveFieldGoalsPercentage': 19.1, 'TwoPointersMade': 861.6, 'TwoPointersAttempted': 1520.0, 'TwoPointersPercentage': 19.2, 'ThreePointersMade': 378.6, 'ThreePointersAttempted': 1006.9, 'ThreePointersPercentage': 12.7, 'FreeThrowsMade': 433.7, 'FreeThrowsAttempted': 549.9, 'FreeThrowsPercentage': 26.7, 'OffensiveRebounds': 310.6, 'DefensiveRebounds': 941.3, 'Rebounds': 1252.0, 'OffensiveReboundsPercentage': None, 'DefensiveReboundsPercentage': None, 'TotalReboundsPercentage': None, 'Assists': 792.9, 'Steals': 201.1, 'BlockedShots': 160.2, 'Turnovers': 362.7, 'PersonalFouls': 502.6, 'Points': 3292.5, 'TrueShootingAttempts': 2768.9, 'TrueShootingPercentage': 20.1, 'PlayerEfficiencyRating': None, 'AssistsPercentage': None, 'StealsPercentage': None, 'BlocksPercentage': None, 'TurnOversPercentage': None, 'UsageRatePercentage': None, 'FantasyPointsFanDuel': 6705.5, 'FantasyPointsDraftKings': 6830.1, 'FantasyPointsYahoo': 6705.5, 'PlusMinus': 892.0, 'DoubleDoubles': 30.4, 'TripleDoubles': 0.8, 'FantasyPointsFantasyDraft': 6826.6, 'IsClosed': False, 'LineupConfirmed': None, 'LineupStatus': 'Scrambled', 'OpponentStat': None}}, {'StatID': 1115416, 'TeamID': 17, 'SeasonType': 1, 'Season': 2024, 'Name': 'Utah Jazz', 'Team': 'UTA', 'Wins': 31, 'Losses': 51, 'OpponentPosition': None, 'Possessions': 2755.8, 'GlobalTeamID': 20000017, 'Updated': '2024-06-25T22:42:38', 'Games': 82, 'FantasyPoints': 6106.4, 'Minutes': 6694, 'Seconds': 16, 'FieldGoalsMade': 1163.7, 'FieldGoalsAttempted': 2491.4, 'FieldGoalsPercentage': 15.8, 'EffectiveFieldGoalsPercentage': 18.2, 'TwoPointersMade': 805.5, 'TwoPointersAttempted': 1479.8, 'TwoPointersPercentage': 18.4, 'ThreePointersMade': 358.3, 'ThreePointersAttempted': 1011.6, 'ThreePointersPercentage': 12.0, 'FreeThrowsMade': 519.8, 'FreeThrowsAttempted': 626.3, 'FreeThrowsPercentage': 28.1, 'OffensiveRebounds': 338.7, 'DefensiveRebounds': 921.0, 'Rebounds': 1259.7, 'OffensiveReboundsPercentage': None, 'DefensiveReboundsPercentage': None, 'TotalReboundsPercentage': None, 'Assists': 754.4, 'Steals': 181.5, 'BlockedShots': 154.8, 'Turnovers': 415.1, 'PersonalFouls': 514.8, 'Points': 3205.6, 'TrueShootingAttempts': 2767.0, 'TrueShootingPercentage': 19.6, 'PlayerEfficiencyRating': None, 'AssistsPercentage': None, 'StealsPercentage': None, 'BlocksPercentage': None, 'TurnOversPercentage': None, 'UsageRatePercentage': None, 'FantasyPointsFanDuel': 6442.8, 'FantasyPointsDraftKings': 6593.1, 'FantasyPointsYahoo': 6442.8, 'PlusMinus': -679.4, 'DoubleDoubles': 24.0, 'TripleDoubles': 0.1, 'FantasyPointsFantasyDraft': 6592.6, 'IsClosed': False, 'LineupConfirmed': None, 'LineupStatus': 'Scrambled', 'OpponentStat': {'StatID': 1115440, 'TeamID': 17, 'SeasonType': 1, 'Season': 2024, 'Name': 'Utah Jazz', 'Team': 'UTA', 'Wins': 51, 'Losses': 31, 'OpponentPosition': None, 'Possessions': 2755.8, 'GlobalTeamID': 20000017, 'Updated': '2024-06-25T22:42:38', 'Games': 82, 'FantasyPoints': 6494.3, 'Minutes': 6694, 'Seconds': 12, 'FieldGoalsMade': 1235.1, 'FieldGoalsAttempted': 2538.0, 'FieldGoalsPercentage': 16.5, 'EffectiveFieldGoalsPercentage': 19.2, 'TwoPointersMade': 825.1, 'TwoPointersAttempted': 1500.4, 'TwoPointersPercentage': 18.6, 'ThreePointersMade': 410.0, 'ThreePointersAttempted': 1037.7, 'ThreePointersPercentage': 13.4, 'FreeThrowsMade': 461.0, 'FreeThrowsAttempted': 597.6, 'FreeThrowsPercentage': 26.1, 'OffensiveRebounds': 304.2, 'DefensiveRebounds': 866.6, 'Rebounds': 1170.8, 'OffensiveReboundsPercentage': None, 'DefensiveReboundsPercentage': None, 'TotalReboundsPercentage': None, 'Assists': 825.4, 'Steals': 238.0, 'BlockedShots': 178.5, 'Turnovers': 322.8, 'PersonalFouls': 533.0, 'Points': 3341.1, 'TrueShootingAttempts': 2801.0, 'TrueShootingPercentage': 20.1, 'PlayerEfficiencyRating': None, 'AssistsPercentage': None, 'StealsPercentage': None, 'BlocksPercentage': None, 'TurnOversPercentage': None, 'UsageRatePercentage': None, 'FantasyPointsFanDuel': 6910.7, 'FantasyPointsDraftKings': 6963.8, 'FantasyPointsYahoo': 6910.7, 'PlusMinus': 679.4, 'DoubleDoubles': 25.0, 'TripleDoubles': 0.8, 'FantasyPointsFantasyDraft': 6960.3, 'IsClosed': False, 'LineupConfirmed': None, 'LineupStatus': 'Scrambled', 'OpponentStat': None}}, {'StatID': 1115402, 'TeamID': 1, 'SeasonType': 1, 'Season': 2024, 'Name': 'Washington Wizards', 'Team': 'WAS', 'Wins': 15, 'Losses': 67, 'OpponentPosition': None, 'Possessions': 2836.3, 'GlobalTeamID': 20000001, 'Updated': '2024-06-25T22:42:38', 'Games': 82, 'FantasyPoints': 6004.8, 'Minutes': 6668, 'Seconds': 2, 'FieldGoalsMade': 1190.8, 'FieldGoalsAttempted': 2532.6, 'FieldGoalsPercentage': 15.9, 'EffectiveFieldGoalsPercentage': 18.2, 'TwoPointersMade': 847.7, 'TwoPointersAttempted': 1547.4, 'TwoPointersPercentage': 18.5, 'ThreePointersMade': 343.1, 'ThreePointersAttempted': 985.3, 'ThreePointersPercentage': 11.8, 'FreeThrowsMade': 427.9, 'FreeThrowsAttempted': 560.1, 'FreeThrowsPercentage': 25.8, 'OffensiveRebounds': 255.2, 'DefensiveRebounds': 883.2, 'Rebounds': 1138.4, 'OffensiveReboundsPercentage': None, 'DefensiveReboundsPercentage': None, 'TotalReboundsPercentage': None, 'Assists': 773.3, 'Steals': 210.6, 'BlockedShots': 140.3, 'Turnovers': 375.5, 'PersonalFouls': 553.3, 'Points': 3152.5, 'TrueShootingAttempts': 2779.1, 'TrueShootingPercentage': 19.2, 'PlayerEfficiencyRating': None, 'AssistsPercentage': None, 'StealsPercentage': None, 'BlocksPercentage': None, 'TurnOversPercentage': None, 'UsageRatePercentage': None, 'FantasyPointsFanDuel': 6355.6, 'FantasyPointsDraftKings': 6458.5, 'FantasyPointsYahoo': 6355.6, 'PlusMinus': -1287.8, 'DoubleDoubles': 24.3, 'TripleDoubles': 0.1, 'FantasyPointsFantasyDraft': 6458.0, 'IsClosed': False, 'LineupConfirmed': None, 'LineupStatus': 'Scrambled', 'OpponentStat': {'StatID': 1115426, 'TeamID': 1, 'SeasonType': 1, 'Season': 2024, 'Name': 'Washington Wizards', 'Team': 'WAS', 'Wins': 67, 'Losses': 15, 'OpponentPosition': None, 'Possessions': 2836.3, 'GlobalTeamID': 20000001, 'Updated': '2024-06-25T22:42:38', 'Games': 82, 'FantasyPoints': 6654.1, 'Minutes': 6668, 'Seconds': 1, 'FieldGoalsMade': 1276.6, 'FieldGoalsAttempted': 2574.9, 'FieldGoalsPercentage': 16.8, 'EffectiveFieldGoalsPercentage': 19.0, 'TwoPointersMade': 936.3, 'TwoPointersAttempted': 1634.6, 'TwoPointersPercentage': 19.4, 'ThreePointersMade': 340.4, 'ThreePointersAttempted': 940.3, 'ThreePointersPercentage': 12.2, 'FreeThrowsMade': 516.5, 'FreeThrowsAttempted': 664.5, 'FreeThrowsPercentage': 26.3, 'OffensiveRebounds': 335.6, 'DefensiveRebounds': 1020.8, 'Rebounds': 1356.4, 'OffensiveReboundsPercentage': None, 'DefensiveReboundsPercentage': None, 'TotalReboundsPercentage': None, 'Assists': 805.1, 'Steals': 221.4, 'BlockedShots': 167.6, 'Turnovers': 369.4, 'PersonalFouls': 497.9, 'Points': 3410.1, 'TrueShootingAttempts': 2867.3, 'TrueShootingPercentage': 20.1, 'PlayerEfficiencyRating': None, 'AssistsPercentage': None, 'StealsPercentage': None, 'BlocksPercentage': None, 'TurnOversPercentage': None, 'UsageRatePercentage': None, 'FantasyPointsFanDuel': 7043.1, 'FantasyPointsDraftKings': 7132.1, 'FantasyPointsYahoo': 7043.1, 'PlusMinus': 1287.8, 'DoubleDoubles': 34.1, 'TripleDoubles': 0.5, 'FantasyPointsFantasyDraft': 7130.0, 'IsClosed': False, 'LineupConfirmed': None, 'LineupStatus': 'Scrambled', 'OpponentStat': None}}]\n",
            "Data saved to nba_last_30_days.csv\n"
          ]
        }
      ],
      "source": [
        "import requests\n",
        "import pandas as pd\n",
        "from datetime import datetime, timedelta\n",
        "from sklearn.model_selection import train_test_split\n",
        "from sklearn.linear_model import LogisticRegression\n",
        "from sklearn.metrics import accuracy_score, classification_report\n",
        "from dotenv import load_dotenv\n",
        "import os\n",
        "\n",
        "load_dotenv()\n",
        "\n",
        "# Your API key\n",
        "api_key = os.getenv('API_KEY')\n",
        "season = \"2024\"  # Specify the season\n",
        "\n",
        "# Base URLs for the endpoints\n",
        "game_base_url = \"https://api.sportsdata.io/v3/nba/scores/json/ScoresBasicFinal/\"\n",
        "season_stats_url = f\"https://api.sportsdata.io/v3/nba/scores/json/TeamSeasonStats/{season}?key={api_key}\"\n",
        "\n",
        "# Initialize an empty list to store game data\n",
        "all_games = []\n",
        "\n",
        "# Function to fetch data for a specific date\n",
        "def fetch_data_for_date(date):\n",
        "    formatted_date = date.strftime(\"%Y-%m-%d\")\n",
        "    url = f\"{game_base_url}{formatted_date}?key={api_key}\"\n",
        "    response = requests.get(url)\n",
        "    if response.status_code == 200:\n",
        "        return response.json()\n",
        "    else:\n",
        "        print(f\"Failed to fetch data for {formatted_date}\")\n",
        "        return []\n",
        "\n",
        "# Fetch data for the last 30 playable days\n",
        "days = 30\n",
        "date = datetime.now()\n",
        "\n",
        "while len(all_games) < days:\n",
        "    games = fetch_data_for_date(date)\n",
        "    if games:  # Only add the date if there were games played\n",
        "        all_games.extend(games)\n",
        "    date -= timedelta(days=1)\n",
        "\n",
        "# Convert the data into a DataFrame\n",
        "df = pd.DataFrame(all_games)\n",
        "\n",
        "# Fetch the season stats data\n",
        "response = requests.get(season_stats_url)\n",
        "season_stats = response.json()\n",
        "\n",
        "# Print the entire object to see its structure\n",
        "print(\"Season Stats Response:\", season_stats)\n",
        "\n",
        "# Check if the response is a list and has content\n",
        "if isinstance(season_stats, list) and len(season_stats) > 0:\n",
        "    # Convert to DataFrame\n",
        "    season_stats_df = pd.DataFrame(season_stats)\n",
        "\n",
        "    # Select relevant columns from the season stats for merging\n",
        "    stats_columns = [\n",
        "    \"StatID\", \"TeamID\", \"SeasonType\", \"Season\", \"Name\", \"Team\", \"Wins\", \"Losses\",\n",
        "    \"Possessions\", \"Games\", \"FantasyPoints\", \"Minutes\", \"FieldGoalsMade\",\n",
        "    \"FieldGoalsAttempted\", \"FieldGoalsPercentage\", \"TwoPointersMade\",\n",
        "    \"TwoPointersAttempted\", \"TwoPointersPercentage\", \"ThreePointersMade\",\n",
        "    \"ThreePointersAttempted\", \"ThreePointersPercentage\", \"FreeThrowsMade\",\n",
        "    \"FreeThrowsAttempted\", \"FreeThrowsPercentage\", \"OffensiveRebounds\",\n",
        "    \"DefensiveRebounds\", \"Rebounds\", \"Assists\", \"Steals\", \"BlockedShots\",\n",
        "    \"Turnovers\", \"PersonalFouls\", \"Points\"\n",
        "    ]\n",
        "    # Check which columns actually exist in the DataFrame\n",
        "    existing_columns = [col for col in stats_columns if col in season_stats_df.columns]\n",
        "\n",
        "    # Select only the existing columns\n",
        "    season_stats_df = season_stats_df[existing_columns]\n",
        "\n",
        "\n",
        "    # Merge season stats for the home team\n",
        "    df = df.merge(season_stats_df, how='left', left_on='HomeTeamID', right_on='TeamID', suffixes=('', '_Home'))\n",
        "\n",
        "    # Merge season stats for the away team\n",
        "    df = df.merge(season_stats_df, how='left', left_on='AwayTeamID', right_on='TeamID', suffixes=('', '_Away'))\n",
        "\n",
        "    # Drop any redundant columns after merging\n",
        "    df.drop(columns=['TeamID', 'TeamID_Away'], inplace=True)\n",
        "\n",
        "    # Save the data to a CSV file (Optional: remove this line if you don't want to save)\n",
        "    csv_filename = \"nba_last_30_days.csv\"\n",
        "    df.to_csv(csv_filename, index=False)\n",
        "\n",
        "    print(f\"Data saved to {csv_filename}\")\n",
        "else:\n",
        "    print(\"The season stats data was not returned in the expected format.\")\n"
      ]
    },
    {
      "cell_type": "code",
      "execution_count": null,
      "metadata": {
        "colab": {
          "base_uri": "https://localhost:8080/",
          "height": 17
        },
        "id": "qUOVWWpGhAiR",
        "outputId": "aaf20b44-c2ac-410c-faa7-ec4184d13f39"
      },
      "outputs": [
        {
          "data": {
            "application/javascript": "\n    async function download(id, filename, size) {\n      if (!google.colab.kernel.accessAllowed) {\n        return;\n      }\n      const div = document.createElement('div');\n      const label = document.createElement('label');\n      label.textContent = `Downloading \"${filename}\": `;\n      div.appendChild(label);\n      const progress = document.createElement('progress');\n      progress.max = size;\n      div.appendChild(progress);\n      document.body.appendChild(div);\n\n      const buffers = [];\n      let downloaded = 0;\n\n      const channel = await google.colab.kernel.comms.open(id);\n      // Send a message to notify the kernel that we're ready.\n      channel.send({})\n\n      for await (const message of channel.messages) {\n        // Send a message to notify the kernel that we're ready.\n        channel.send({})\n        if (message.buffers) {\n          for (const buffer of message.buffers) {\n            buffers.push(buffer);\n            downloaded += buffer.byteLength;\n            progress.value = downloaded;\n          }\n        }\n      }\n      const blob = new Blob(buffers, {type: 'application/binary'});\n      const a = document.createElement('a');\n      a.href = window.URL.createObjectURL(blob);\n      a.download = filename;\n      div.appendChild(a);\n      a.click();\n      div.remove();\n    }\n  ",
            "text/plain": [
              "<IPython.core.display.Javascript object>"
            ]
          },
          "metadata": {},
          "output_type": "display_data"
        },
        {
          "data": {
            "application/javascript": "download(\"download_da3f9c1f-c3d0-47e5-9e2b-ea829155e494\", \"nba_last_30_days.csv\", 20587)",
            "text/plain": [
              "<IPython.core.display.Javascript object>"
            ]
          },
          "metadata": {},
          "output_type": "display_data"
        }
      ],
      "source": [
        "# downlod file\n",
        "from google.colab import files\n",
        "files.download(\"nba_last_30_days.csv\")\n"
      ]
    },
    {
      "cell_type": "code",
      "execution_count": null,
      "metadata": {
        "id": "x4md0KexhBEo"
      },
      "outputs": [],
      "source": [
        "# Library imports\n",
        "import pandas as pd\n",
        "import numpy as np\n",
        "from sklearn.model_selection import train_test_split\n",
        "from sklearn.linear_model import LogisticRegression\n",
        "from sklearn.metrics import accuracy_score, classification_report\n",
        "\n",
        "# Load the dataset\n",
        "df = pd.read_csv('nba_last_30_days.csv')\n"
      ]
    },
    {
      "cell_type": "code",
      "execution_count": null,
      "metadata": {
        "id": "9SsS-2MohNq-"
      },
      "outputs": [],
      "source": [
        "# Proprocess data\n",
        "\n",
        "#  Fill missing values with the mean of each column (only in numeric columns)\n",
        "numeric_cols = df.select_dtypes(include=['number']).columns\n",
        "df[numeric_cols] = df[numeric_cols].fillna(df[numeric_cols].mean())\n",
        "\n",
        "\n",
        "# Example of columns: 'HomeTeam', 'AwayTeam', 'HomeTeamScore', 'AwayTeamScore'\n",
        "# Create a target variable 'WinningTeam' where 1 means home team won, 0 means away team won\n",
        "df['WinningTeam'] = np.where(df['HomeTeamScore'] > df['AwayTeamScore'], 1, 0)\n",
        "\n",
        "# Select relevant features for the model (you can add more if available)\n",
        "features = ['HomeTeamScore', 'AwayTeamScore']\n",
        "\n",
        "X = df[features]\n",
        "y = df['WinningTeam']\n",
        "\n",
        "# Split the data into training and testing sets\n",
        "X_train, X_test, y_train, y_test = train_test_split(X, y, test_size=0.2, random_state=42)\n"
      ]
    },
    {
      "cell_type": "code",
      "execution_count": null,
      "metadata": {
        "colab": {
          "base_uri": "https://localhost:8080/",
          "height": 74
        },
        "id": "T5Lydz0thP46",
        "outputId": "81d5c0a4-9563-44c7-bbb4-51d255560c88"
      },
      "outputs": [
        {
          "data": {
            "text/html": [
              "<style>#sk-container-id-2 {color: black;}#sk-container-id-2 pre{padding: 0;}#sk-container-id-2 div.sk-toggleable {background-color: white;}#sk-container-id-2 label.sk-toggleable__label {cursor: pointer;display: block;width: 100%;margin-bottom: 0;padding: 0.3em;box-sizing: border-box;text-align: center;}#sk-container-id-2 label.sk-toggleable__label-arrow:before {content: \"▸\";float: left;margin-right: 0.25em;color: #696969;}#sk-container-id-2 label.sk-toggleable__label-arrow:hover:before {color: black;}#sk-container-id-2 div.sk-estimator:hover label.sk-toggleable__label-arrow:before {color: black;}#sk-container-id-2 div.sk-toggleable__content {max-height: 0;max-width: 0;overflow: hidden;text-align: left;background-color: #f0f8ff;}#sk-container-id-2 div.sk-toggleable__content pre {margin: 0.2em;color: black;border-radius: 0.25em;background-color: #f0f8ff;}#sk-container-id-2 input.sk-toggleable__control:checked~div.sk-toggleable__content {max-height: 200px;max-width: 100%;overflow: auto;}#sk-container-id-2 input.sk-toggleable__control:checked~label.sk-toggleable__label-arrow:before {content: \"▾\";}#sk-container-id-2 div.sk-estimator input.sk-toggleable__control:checked~label.sk-toggleable__label {background-color: #d4ebff;}#sk-container-id-2 div.sk-label input.sk-toggleable__control:checked~label.sk-toggleable__label {background-color: #d4ebff;}#sk-container-id-2 input.sk-hidden--visually {border: 0;clip: rect(1px 1px 1px 1px);clip: rect(1px, 1px, 1px, 1px);height: 1px;margin: -1px;overflow: hidden;padding: 0;position: absolute;width: 1px;}#sk-container-id-2 div.sk-estimator {font-family: monospace;background-color: #f0f8ff;border: 1px dotted black;border-radius: 0.25em;box-sizing: border-box;margin-bottom: 0.5em;}#sk-container-id-2 div.sk-estimator:hover {background-color: #d4ebff;}#sk-container-id-2 div.sk-parallel-item::after {content: \"\";width: 100%;border-bottom: 1px solid gray;flex-grow: 1;}#sk-container-id-2 div.sk-label:hover label.sk-toggleable__label {background-color: #d4ebff;}#sk-container-id-2 div.sk-serial::before {content: \"\";position: absolute;border-left: 1px solid gray;box-sizing: border-box;top: 0;bottom: 0;left: 50%;z-index: 0;}#sk-container-id-2 div.sk-serial {display: flex;flex-direction: column;align-items: center;background-color: white;padding-right: 0.2em;padding-left: 0.2em;position: relative;}#sk-container-id-2 div.sk-item {position: relative;z-index: 1;}#sk-container-id-2 div.sk-parallel {display: flex;align-items: stretch;justify-content: center;background-color: white;position: relative;}#sk-container-id-2 div.sk-item::before, #sk-container-id-2 div.sk-parallel-item::before {content: \"\";position: absolute;border-left: 1px solid gray;box-sizing: border-box;top: 0;bottom: 0;left: 50%;z-index: -1;}#sk-container-id-2 div.sk-parallel-item {display: flex;flex-direction: column;z-index: 1;position: relative;background-color: white;}#sk-container-id-2 div.sk-parallel-item:first-child::after {align-self: flex-end;width: 50%;}#sk-container-id-2 div.sk-parallel-item:last-child::after {align-self: flex-start;width: 50%;}#sk-container-id-2 div.sk-parallel-item:only-child::after {width: 0;}#sk-container-id-2 div.sk-dashed-wrapped {border: 1px dashed gray;margin: 0 0.4em 0.5em 0.4em;box-sizing: border-box;padding-bottom: 0.4em;background-color: white;}#sk-container-id-2 div.sk-label label {font-family: monospace;font-weight: bold;display: inline-block;line-height: 1.2em;}#sk-container-id-2 div.sk-label-container {text-align: center;}#sk-container-id-2 div.sk-container {/* jupyter's `normalize.less` sets `[hidden] { display: none; }` but bootstrap.min.css set `[hidden] { display: none !important; }` so we also need the `!important` here to be able to override the default hidden behavior on the sphinx rendered scikit-learn.org. See: https://github.com/scikit-learn/scikit-learn/issues/21755 */display: inline-block !important;position: relative;}#sk-container-id-2 div.sk-text-repr-fallback {display: none;}</style><div id=\"sk-container-id-2\" class=\"sk-top-container\"><div class=\"sk-text-repr-fallback\"><pre>LogisticRegression()</pre><b>In a Jupyter environment, please rerun this cell to show the HTML representation or trust the notebook. <br />On GitHub, the HTML representation is unable to render, please try loading this page with nbviewer.org.</b></div><div class=\"sk-container\" hidden><div class=\"sk-item\"><div class=\"sk-estimator sk-toggleable\"><input class=\"sk-toggleable__control sk-hidden--visually\" id=\"sk-estimator-id-2\" type=\"checkbox\" checked><label for=\"sk-estimator-id-2\" class=\"sk-toggleable__label sk-toggleable__label-arrow\">LogisticRegression</label><div class=\"sk-toggleable__content\"><pre>LogisticRegression()</pre></div></div></div></div></div>"
            ],
            "text/plain": [
              "LogisticRegression()"
            ]
          },
          "execution_count": 34,
          "metadata": {},
          "output_type": "execute_result"
        }
      ],
      "source": [
        "# Train logistic model\n",
        "\n",
        "# Initialize the logistic regression model\n",
        "model = LogisticRegression()\n",
        "\n",
        "# Train the model\n",
        "model.fit(X_train, y_train)"
      ]
    },
    {
      "cell_type": "code",
      "execution_count": null,
      "metadata": {
        "colab": {
          "base_uri": "https://localhost:8080/"
        },
        "id": "8o79uWcahZyR",
        "outputId": "f91306a3-4af2-423d-c008-bf0a79007ff4"
      },
      "outputs": [
        {
          "name": "stdout",
          "output_type": "stream",
          "text": [
            "Accuracy: 1.00\n",
            "              precision    recall  f1-score   support\n",
            "\n",
            "           0       1.00      1.00      1.00         3\n",
            "           1       1.00      1.00      1.00         4\n",
            "\n",
            "    accuracy                           1.00         7\n",
            "   macro avg       1.00      1.00      1.00         7\n",
            "weighted avg       1.00      1.00      1.00         7\n",
            "\n"
          ]
        }
      ],
      "source": [
        "# Make predictions on the test set\n",
        "y_pred = model.predict(X_test)\n",
        "\n",
        "# Calculate the accuracy\n",
        "accuracy = accuracy_score(y_test, y_pred)\n",
        "print(f\"Accuracy: {accuracy:.2f}\")\n",
        "\n",
        "# Print a detailed classification report\n",
        "print(classification_report(y_test, y_pred))\n"
      ]
    },
    {
      "cell_type": "code",
      "execution_count": null,
      "metadata": {
        "colab": {
          "base_uri": "https://localhost:8080/"
        },
        "collapsed": true,
        "id": "gXgbSMfSqMVz",
        "outputId": "fad7c865-4cd6-4c0d-b243-7d17abe44040"
      },
      "outputs": [
        {
          "name": "stdout",
          "output_type": "stream",
          "text": [
            "Requirement already satisfied: praw in /usr/local/lib/python3.10/dist-packages (7.7.1)\n",
            "Requirement already satisfied: prawcore<3,>=2.1 in /usr/local/lib/python3.10/dist-packages (from praw) (2.4.0)\n",
            "Requirement already satisfied: update-checker>=0.18 in /usr/local/lib/python3.10/dist-packages (from praw) (0.18.0)\n",
            "Requirement already satisfied: websocket-client>=0.54.0 in /usr/local/lib/python3.10/dist-packages (from praw) (1.8.0)\n",
            "Requirement already satisfied: requests<3.0,>=2.6.0 in /usr/local/lib/python3.10/dist-packages (from prawcore<3,>=2.1->praw) (2.32.3)\n",
            "Requirement already satisfied: charset-normalizer<4,>=2 in /usr/local/lib/python3.10/dist-packages (from requests<3.0,>=2.6.0->prawcore<3,>=2.1->praw) (3.3.2)\n",
            "Requirement already satisfied: idna<4,>=2.5 in /usr/local/lib/python3.10/dist-packages (from requests<3.0,>=2.6.0->prawcore<3,>=2.1->praw) (3.7)\n",
            "Requirement already satisfied: urllib3<3,>=1.21.1 in /usr/local/lib/python3.10/dist-packages (from requests<3.0,>=2.6.0->prawcore<3,>=2.1->praw) (2.0.7)\n",
            "Requirement already satisfied: certifi>=2017.4.17 in /usr/local/lib/python3.10/dist-packages (from requests<3.0,>=2.6.0->prawcore<3,>=2.1->praw) (2024.7.4)\n"
          ]
        }
      ],
      "source": [
        "!pip install praw"
      ]
    },
    {
      "cell_type": "code",
      "execution_count": null,
      "metadata": {
        "colab": {
          "base_uri": "https://localhost:8080/"
        },
        "id": "8kdJ7sD0ht2l",
        "outputId": "afd1759f-2fd0-4ae7-a33e-3484ee6fc496"
      },
      "outputs": [
        {
          "name": "stderr",
          "output_type": "stream",
          "text": [
            "WARNING:praw:It appears that you are using PRAW in an asynchronous environment.\n",
            "It is strongly recommended to use Async PRAW: https://asyncpraw.readthedocs.io.\n",
            "See https://praw.readthedocs.io/en/latest/getting_started/multiple_instances.html#discord-bots-and-asynchronous-environments for more info.\n",
            "\n"
          ]
        },
        {
          "name": "stdout",
          "output_type": "stream",
          "text": [
            "Top 10 posts from r/lakers:\n",
            "\n",
            "Title: Daily Lakers Offseason Discussion Thread\n",
            "Score: 3\n",
            "URL: https://www.reddit.com/r/lakers/comments/1eotq0d/daily_lakers_offseason_discussion_thread/\n",
            "\n",
            "Title: [LakersNation] Lakers News: Anthony Davis Believes Olympics Will Help Prepare Him For 2024-25 Season\n",
            "Score: 77\n",
            "URL: https://lakersnation.com/lakers-news-anthony-davis-believes-olympics-will-help-prepare-him-for-2024-25-season/\n",
            "\n",
            "Title: The script has been written...\n",
            "Score: 156\n",
            "URL: https://i.redd.it/v33metlz7uhd1.png\n",
            "\n",
            "Title: Go for Gold on 8/10/24!! \n",
            "Score: 59\n",
            "URL: https://i.redd.it/irbn52bm8vhd1.jpeg\n",
            "\n",
            "Title: Bring home the gold  8/10/24\n",
            "Score: 264\n",
            "URL: https://i.redd.it/4kp6fuzfrrhd1.jpeg\n",
            "\n",
            "Title: Jovan Buha gives big update on the D'Angelo Russell trade market. While most teams are not interested, the Raptors and Nets are reportedly open to trade\n",
            "Score: 11\n",
            "URL: https://sportsnaut.com/los-angeles-lakers-dangelo-russell-low-trade-value/\n",
            "\n",
            "Title: KD remains undefeated on Twitter, putting Nuggets fans in their place\n",
            "Score: 760\n",
            "URL: https://i.redd.it/nx0ef7fqbohd1.jpeg\n",
            "\n",
            "Title: Bronny James and his brother Bryce on a 2 man in Paris at the USA game \n",
            "Score: 140\n",
            "URL: https://x.com/shpillo_/status/1821641370253070838?s=46\n",
            "\n",
            "Title: [South Bay Lakers] The South Bay Lakers have parted ways with Head Coach Dane Johnson.   Johnson led South Bay to a 26-24 overall record in the 2023-24 G League season. During his tenure as head coach, four players earned NBA Call-Ups.\n",
            "Score: 128\n",
            "URL: https://twitter.com/southbaylakers/status/1822051269529497845?s=46&t=L38RDc8PbmsUNkaWhywxiA\n",
            "\n",
            "Title: [NY Post] LeBron James could end up a Celtics owner as Fenway Sports considers purchase: sources\n",
            "Score: 400\n",
            "URL: https://nypost.com/2024/08/08/sports/lebron-james-could-end-up-a-celtics-owner-as-fenway-sports-considers-purchase/\n",
            "\n"
          ]
        }
      ],
      "source": [
        "# SOCIAL MEDIA OUTLOOK\n",
        "import praw\n",
        "\n",
        "REDDIT_CLIENT_ID = os.getenv('REDDIT_CLIENT_ID')\n",
        "REDDIT_CLIENT_SECRET = os.getenv('REDDIT_CLIENT_SECRET')\n",
        "REDDIT_USER_AGENT = os.getenv('REDDIT_USER_AGENT')\n",
        "\n",
        "# Initialize the Reddit instance\n",
        "reddit = praw.Reddit(client_id=REDDIT_CLIENT_ID,\n",
        "                     client_secret=REDDIT_CLIENT_SECRET,\n",
        "                     user_agent=REDDIT_USER_AGENT)\n",
        "\n",
        "# Dictionary mapping team names to their subreddit names\n",
        "team_subreddits = {\n",
        "    \"Atlanta Hawks\": \"AtlantaHawks\",\n",
        "    \"Boston Celtics\": \"bostonceltics\",\n",
        "    \"Brooklyn Nets\": \"GoNets\",\n",
        "    \"Charlotte Hornets\": \"CharlotteHornets\",\n",
        "    \"Chicago Bulls\": \"chicagobulls\",\n",
        "    \"Cleveland Cavaliers\": \"clevelandcavs\",\n",
        "    \"Dallas Mavericks\": \"Mavericks\",\n",
        "    \"Denver Nuggets\": \"denvernuggets\",\n",
        "    \"Detroit Pistons\": \"DetroitPistons\",\n",
        "    \"Golden State Warriors\": \"warriors\",\n",
        "    \"Houston Rockets\": \"rockets\",\n",
        "    \"Indiana Pacers\": \"pacers\",\n",
        "    \"Los Angeles Clippers\": \"LAClippers\",\n",
        "    \"Los Angeles Lakers\": \"lakers\",\n",
        "    \"Memphis Grizzlies\": \"memphisgrizzlies\",\n",
        "    \"Miami Heat\": \"heat\",\n",
        "    \"Milwaukee Bucks\": \"MkeBucks\",\n",
        "    \"Minnesota Timberwolves\": \"timberwolves\",\n",
        "    \"New Orleans Pelicans\": \"NOLAPelicans\",\n",
        "    \"New York Knicks\": \"NYKnicks\",\n",
        "    \"Oklahoma City Thunder\": \"Thunder\",\n",
        "    \"Orlando Magic\": \"OrlandoMagic\",\n",
        "    \"Philadelphia 76ers\": \"sixers\",\n",
        "    \"Phoenix Suns\": \"suns\",\n",
        "    \"Portland Trail Blazers\": \"ripcity\",\n",
        "    \"Sacramento Kings\": \"kings\",\n",
        "    \"San Antonio Spurs\": \"NBASpurs\",\n",
        "    \"Toronto Raptors\": \"torontoraptors\",\n",
        "    \"Utah Jazz\": \"UtahJazz\",\n",
        "    \"Washington Wizards\": \"washingtonwizards\",\n",
        "}\n",
        "\n",
        "# Function to get posts from a team's subreddit\n",
        "def get_team_posts(team_name):\n",
        "    subreddit_name = team_subreddits.get(team_name)\n",
        "    posts = []\n",
        "\n",
        "    if subreddit_name:\n",
        "        subreddit = reddit.subreddit(subreddit_name)\n",
        "        fetched_posts = subreddit.hot(limit=10)  # Get top 10 hot posts\n",
        "        print(f\"Top 10 posts from r/{subreddit_name}:\\n\")\n",
        "        for post in fetched_posts:\n",
        "            post_content = f\"Title: {post.title}\\nScore: {post.score}\\nURL: {post.url}\\n\"\n",
        "            posts.append(post_content)\n",
        "            print(post_content)\n",
        "    else:\n",
        "        print(f\"Subreddit for {team_name} not found.\")\n",
        "\n",
        "    return posts\n",
        "\n",
        "# Example usage\n",
        "team_name = \"Los Angeles Lakers\"  # You can change this to any team\n",
        "posts = get_team_posts(team_name)\n",
        "\n",
        "# The 'posts' list now contains the top 10 posts from the subreddit's hot section\n"
      ]
    },
    {
      "cell_type": "code",
      "execution_count": null,
      "metadata": {
        "colab": {
          "base_uri": "https://localhost:8080/"
        },
        "collapsed": true,
        "id": "AiG7C4kNnHyZ",
        "outputId": "434182b1-3167-42b2-a6d4-88076527bf89"
      },
      "outputs": [
        {
          "name": "stdout",
          "output_type": "stream",
          "text": [
            "Collecting openai\n",
            "  Downloading openai-1.40.3-py3-none-any.whl.metadata (22 kB)\n",
            "Requirement already satisfied: anyio<5,>=3.5.0 in /usr/local/lib/python3.10/dist-packages (from openai) (3.7.1)\n",
            "Requirement already satisfied: distro<2,>=1.7.0 in /usr/lib/python3/dist-packages (from openai) (1.7.0)\n",
            "Collecting httpx<1,>=0.23.0 (from openai)\n",
            "  Downloading httpx-0.27.0-py3-none-any.whl.metadata (7.2 kB)\n",
            "Collecting jiter<1,>=0.4.0 (from openai)\n",
            "  Downloading jiter-0.5.0-cp310-cp310-manylinux_2_17_x86_64.manylinux2014_x86_64.whl.metadata (3.6 kB)\n",
            "Requirement already satisfied: pydantic<3,>=1.9.0 in /usr/local/lib/python3.10/dist-packages (from openai) (2.8.2)\n",
            "Requirement already satisfied: sniffio in /usr/local/lib/python3.10/dist-packages (from openai) (1.3.1)\n",
            "Requirement already satisfied: tqdm>4 in /usr/local/lib/python3.10/dist-packages (from openai) (4.66.5)\n",
            "Requirement already satisfied: typing-extensions<5,>=4.11 in /usr/local/lib/python3.10/dist-packages (from openai) (4.12.2)\n",
            "Requirement already satisfied: idna>=2.8 in /usr/local/lib/python3.10/dist-packages (from anyio<5,>=3.5.0->openai) (3.7)\n",
            "Requirement already satisfied: exceptiongroup in /usr/local/lib/python3.10/dist-packages (from anyio<5,>=3.5.0->openai) (1.2.2)\n",
            "Requirement already satisfied: certifi in /usr/local/lib/python3.10/dist-packages (from httpx<1,>=0.23.0->openai) (2024.7.4)\n",
            "Collecting httpcore==1.* (from httpx<1,>=0.23.0->openai)\n",
            "  Downloading httpcore-1.0.5-py3-none-any.whl.metadata (20 kB)\n",
            "Collecting h11<0.15,>=0.13 (from httpcore==1.*->httpx<1,>=0.23.0->openai)\n",
            "  Downloading h11-0.14.0-py3-none-any.whl.metadata (8.2 kB)\n",
            "Requirement already satisfied: annotated-types>=0.4.0 in /usr/local/lib/python3.10/dist-packages (from pydantic<3,>=1.9.0->openai) (0.7.0)\n",
            "Requirement already satisfied: pydantic-core==2.20.1 in /usr/local/lib/python3.10/dist-packages (from pydantic<3,>=1.9.0->openai) (2.20.1)\n",
            "Downloading openai-1.40.3-py3-none-any.whl (360 kB)\n",
            "\u001b[2K   \u001b[90m━━━━━━━━━━━━━━━━━━━━━━━━━━━━━━━━━━━━━━━━\u001b[0m \u001b[32m360.7/360.7 kB\u001b[0m \u001b[31m19.0 MB/s\u001b[0m eta \u001b[36m0:00:00\u001b[0m\n",
            "\u001b[?25hDownloading httpx-0.27.0-py3-none-any.whl (75 kB)\n",
            "\u001b[2K   \u001b[90m━━━━━━━━━━━━━━━━━━━━━━━━━━━━━━━━━━━━━━━━\u001b[0m \u001b[32m75.6/75.6 kB\u001b[0m \u001b[31m5.0 MB/s\u001b[0m eta \u001b[36m0:00:00\u001b[0m\n",
            "\u001b[?25hDownloading httpcore-1.0.5-py3-none-any.whl (77 kB)\n",
            "\u001b[2K   \u001b[90m━━━━━━━━━━━━━━━━━━━━━━━━━━━━━━━━━━━━━━━━\u001b[0m \u001b[32m77.9/77.9 kB\u001b[0m \u001b[31m4.8 MB/s\u001b[0m eta \u001b[36m0:00:00\u001b[0m\n",
            "\u001b[?25hDownloading jiter-0.5.0-cp310-cp310-manylinux_2_17_x86_64.manylinux2014_x86_64.whl (318 kB)\n",
            "\u001b[2K   \u001b[90m━━━━━━━━━━━━━━━━━━━━━━━━━━━━━━━━━━━━━━━━\u001b[0m \u001b[32m318.9/318.9 kB\u001b[0m \u001b[31m16.5 MB/s\u001b[0m eta \u001b[36m0:00:00\u001b[0m\n",
            "\u001b[?25hDownloading h11-0.14.0-py3-none-any.whl (58 kB)\n",
            "\u001b[2K   \u001b[90m━━━━━━━━━━━━━━━━━━━━━━━━━━━━━━━━━━━━━━━━\u001b[0m \u001b[32m58.3/58.3 kB\u001b[0m \u001b[31m3.6 MB/s\u001b[0m eta \u001b[36m0:00:00\u001b[0m\n",
            "\u001b[?25hInstalling collected packages: jiter, h11, httpcore, httpx, openai\n",
            "Successfully installed h11-0.14.0 httpcore-1.0.5 httpx-0.27.0 jiter-0.5.0 openai-1.40.3\n"
          ]
        }
      ],
      "source": [
        "!pip install openai"
      ]
    },
    {
      "cell_type": "code",
      "execution_count": null,
      "metadata": {
        "colab": {
          "base_uri": "https://localhost:8080/"
        },
        "id": "m6ws7N22rqJF",
        "outputId": "4d9c75b9-a311-4998-9281-cbabc8f82282"
      },
      "outputs": [
        {
          "name": "stdout",
          "output_type": "stream",
          "text": [
            "Here’s a sentiment analysis of the provided Reddit posts regarding the Lakers:\n",
            "\n",
            "1. **Title: Daily Lakers Offseason Discussion Thread**\n",
            "   - **Score**: 3\n",
            "   - **Sentiment**: Neutral/Low Positive. The low score suggests a lack of engagement or enthusiasm about offseason discussions.\n",
            "\n",
            "2. **Title: [LakersNation] Lakers News: Anthony Davis Believes Olympics Will Help Prepare Him For 2024-25 Season**\n",
            "   - **Score**: 77\n",
            "   - **Sentiment**: Positive. The topic of Anthony Davis preparing for the upcoming season is likely to generate optimism among fans, leading to higher positive sentiment.\n",
            "\n",
            "3. **Title: The script has been written...**\n",
            "   - **Score**: 156\n",
            "   - **Sentiment**: Positive. A score of 156 indicates enthusiasm or excitement, possibly alluding to a strong narrative or expectation surrounding the team.\n",
            "\n",
            "4. **Title: Go for Gold on 8/10/24!!**\n",
            "   - **Score**: 59\n",
            "   - **Sentiment**: Positive. The exclamation marks suggest excitement and eagerness regarding the upcoming Olympics, indicative of a hopeful sentiment towards team representation.\n",
            "\n",
            "5. **Title: Bring home the gold  8/10/24**\n",
            "   - **Score**: 264\n",
            "   - **Sentiment**: Highly Positive. With a strong score, this post conveys significant enthusiasm for the team’s potential success in the Olympics.\n",
            "\n",
            "6. **Title: Jovan Buha gives big update on the D'Angelo Russell trade market...**\n",
            "   - **Score**: 11\n",
            "   - **Sentiment**: Neutral/Low Positive. A low score indicates that this update about trade dynamics might not resonate strongly with fans, suggesting mixed feelings or apathy.\n",
            "\n",
            "7. **Title: KD remains undefeated on Twitter, putting Nuggets fans in their place**\n",
            "   - **Score**: 760\n",
            "   - **Sentiment**: Not directly related to the Lakers, but highly Positive towards KD's performance. Not directly indicative of sentiment for the Lakers.\n",
            "\n",
            "8. **Title: Bronny James and his brother Bryce on a 2-man in Paris at the USA game**\n",
            "   - **Score**: 140\n",
            "   - **Sentiment**: Positive. This post suggests excitement about the next generation of players with ties to the Lakers, reflecting positively on the team's future.\n",
            "\n",
            "9. **Title: [South Bay Lakers] The South Bay Lakers have parted ways with Head Coach Dane Johnson...**\n",
            "   - **Score**: 128\n",
            "   - **Sentiment**: Neutral/Negative. Parting ways with a coach may evoke a sense of concern or disappointment among fans regarding team direction.\n",
            "\n",
            "10. **Title: [NY Post] LeBron James could end up a Celtics owner as Fenway Sports considers purchase: sources**\n",
            "    - **Score**: 400\n",
            "    - **Sentiment**: Negative. The notion of LeBron potentially associating with a rival team like the Celtics would likely create negative sentiment among Lakers fans.\n",
            "\n",
            "**Overall Sentiment Towards the Lakers**: The collective sentiment towards the Lakers appears to be mostly positive, with some discussions generating excitement and optimism about future prospects, particularly regarding player performances and Olympic participation. However, there are also some negative and neutral sentiments related to trade rumors and coaching changes that reflect concerns among fans.\n"
          ]
        }
      ],
      "source": [
        "# SENTIMENT ANALYSIS\n",
        "import dotenv\n",
        "import os\n",
        "from openai import OpenAI\n",
        "\n",
        "load_dotenv()\n",
        "\n",
        "# OpenAI API Key and client\n",
        "api_key = os.getenv(OPENAI_API_KEY)\n",
        "\n",
        "client = OpenAI(\n",
        "    api_key=api_key\n",
        ")\n",
        "\n",
        "# Function to summarize fan sentiment\n",
        "def summarize_fan_sentiment(posts):\n",
        "    # Concatenate the posts into a single string for analysis\n",
        "    posts_content = \"\\n\\n\".join(posts)\n",
        "\n",
        "    # Create the chat completion\n",
        "    chat_completion = client.chat.completions.create(\n",
        "        messages=[\n",
        "            {\n",
        "                \"role\": \"system\",\n",
        "                \"content\": \"You are an AI trained to analyze sentiment from social media posts.\"\n",
        "            },\n",
        "            {\n",
        "                \"role\": \"user\",\n",
        "                \"content\": f\"Analyze the following Reddit posts for their sentiment towards the team:\\n{posts_content}\"\n",
        "            }\n",
        "        ],\n",
        "        model=\"gpt-4o-mini\",\n",
        "    )\n",
        "\n",
        "    # Extract the summary from the response\n",
        "    summary = chat_completion.choices[0].message.content\n",
        "\n",
        "    return summary\n",
        "\n",
        "sentiment_summary = summarize_fan_sentiment(posts)\n",
        "print(sentiment_summary)"
      ]
    },
    {
      "cell_type": "code",
      "execution_count": null,
      "metadata": {
        "colab": {
          "base_uri": "https://localhost:8080/"
        },
        "collapsed": true,
        "id": "qifphRVysfX_",
        "outputId": "62a4f0fb-96eb-4a23-dfeb-27c3fb22d0b0"
      },
      "outputs": [
        {
          "name": "stdout",
          "output_type": "stream",
          "text": [
            "Requirement already satisfied: google-api-python-client in /usr/local/lib/python3.10/dist-packages (2.140.0)\n",
            "Requirement already satisfied: pytubefix in /usr/local/lib/python3.10/dist-packages (6.9.2)\n",
            "Requirement already satisfied: httplib2<1.dev0,>=0.19.0 in /usr/local/lib/python3.10/dist-packages (from google-api-python-client) (0.22.0)\n",
            "Requirement already satisfied: google-auth!=2.24.0,!=2.25.0,<3.0.0.dev0,>=1.32.0 in /usr/local/lib/python3.10/dist-packages (from google-api-python-client) (2.27.0)\n",
            "Requirement already satisfied: google-auth-httplib2<1.0.0,>=0.2.0 in /usr/local/lib/python3.10/dist-packages (from google-api-python-client) (0.2.0)\n",
            "Requirement already satisfied: google-api-core!=2.0.*,!=2.1.*,!=2.2.*,!=2.3.0,<3.0.0.dev0,>=1.31.5 in /usr/local/lib/python3.10/dist-packages (from google-api-python-client) (2.19.1)\n",
            "Requirement already satisfied: uritemplate<5,>=3.0.1 in /usr/local/lib/python3.10/dist-packages (from google-api-python-client) (4.1.1)\n",
            "Requirement already satisfied: googleapis-common-protos<2.0.dev0,>=1.56.2 in /usr/local/lib/python3.10/dist-packages (from google-api-core!=2.0.*,!=2.1.*,!=2.2.*,!=2.3.0,<3.0.0.dev0,>=1.31.5->google-api-python-client) (1.63.2)\n",
            "Requirement already satisfied: protobuf!=3.20.0,!=3.20.1,!=4.21.0,!=4.21.1,!=4.21.2,!=4.21.3,!=4.21.4,!=4.21.5,<6.0.0.dev0,>=3.19.5 in /usr/local/lib/python3.10/dist-packages (from google-api-core!=2.0.*,!=2.1.*,!=2.2.*,!=2.3.0,<3.0.0.dev0,>=1.31.5->google-api-python-client) (3.20.3)\n",
            "Requirement already satisfied: proto-plus<2.0.0dev,>=1.22.3 in /usr/local/lib/python3.10/dist-packages (from google-api-core!=2.0.*,!=2.1.*,!=2.2.*,!=2.3.0,<3.0.0.dev0,>=1.31.5->google-api-python-client) (1.24.0)\n",
            "Requirement already satisfied: requests<3.0.0.dev0,>=2.18.0 in /usr/local/lib/python3.10/dist-packages (from google-api-core!=2.0.*,!=2.1.*,!=2.2.*,!=2.3.0,<3.0.0.dev0,>=1.31.5->google-api-python-client) (2.32.3)\n",
            "Requirement already satisfied: cachetools<6.0,>=2.0.0 in /usr/local/lib/python3.10/dist-packages (from google-auth!=2.24.0,!=2.25.0,<3.0.0.dev0,>=1.32.0->google-api-python-client) (5.4.0)\n",
            "Requirement already satisfied: pyasn1-modules>=0.2.1 in /usr/local/lib/python3.10/dist-packages (from google-auth!=2.24.0,!=2.25.0,<3.0.0.dev0,>=1.32.0->google-api-python-client) (0.4.0)\n",
            "Requirement already satisfied: rsa<5,>=3.1.4 in /usr/local/lib/python3.10/dist-packages (from google-auth!=2.24.0,!=2.25.0,<3.0.0.dev0,>=1.32.0->google-api-python-client) (4.9)\n",
            "Requirement already satisfied: pyparsing!=3.0.0,!=3.0.1,!=3.0.2,!=3.0.3,<4,>=2.4.2 in /usr/local/lib/python3.10/dist-packages (from httplib2<1.dev0,>=0.19.0->google-api-python-client) (3.1.2)\n",
            "Requirement already satisfied: pyasn1<0.7.0,>=0.4.6 in /usr/local/lib/python3.10/dist-packages (from pyasn1-modules>=0.2.1->google-auth!=2.24.0,!=2.25.0,<3.0.0.dev0,>=1.32.0->google-api-python-client) (0.6.0)\n",
            "Requirement already satisfied: charset-normalizer<4,>=2 in /usr/local/lib/python3.10/dist-packages (from requests<3.0.0.dev0,>=2.18.0->google-api-core!=2.0.*,!=2.1.*,!=2.2.*,!=2.3.0,<3.0.0.dev0,>=1.31.5->google-api-python-client) (3.3.2)\n",
            "Requirement already satisfied: idna<4,>=2.5 in /usr/local/lib/python3.10/dist-packages (from requests<3.0.0.dev0,>=2.18.0->google-api-core!=2.0.*,!=2.1.*,!=2.2.*,!=2.3.0,<3.0.0.dev0,>=1.31.5->google-api-python-client) (3.7)\n",
            "Requirement already satisfied: urllib3<3,>=1.21.1 in /usr/local/lib/python3.10/dist-packages (from requests<3.0.0.dev0,>=2.18.0->google-api-core!=2.0.*,!=2.1.*,!=2.2.*,!=2.3.0,<3.0.0.dev0,>=1.31.5->google-api-python-client) (2.0.7)\n",
            "Requirement already satisfied: certifi>=2017.4.17 in /usr/local/lib/python3.10/dist-packages (from requests<3.0.0.dev0,>=2.18.0->google-api-core!=2.0.*,!=2.1.*,!=2.2.*,!=2.3.0,<3.0.0.dev0,>=1.31.5->google-api-python-client) (2024.7.4)\n"
          ]
        }
      ],
      "source": [
        "!pip install google-api-python-client pytubefix"
      ]
    },
    {
      "cell_type": "code",
      "execution_count": null,
      "metadata": {
        "colab": {
          "base_uri": "https://localhost:8080/"
        },
        "id": "pS8vfMXd14AF",
        "outputId": "6ae3312c-ac4c-40dd-fb93-14fcb1741c6e"
      },
      "outputs": [
        {
          "name": "stdout",
          "output_type": "stream",
          "text": [
            "Searching in NBA channel...\n",
            "CELTICS at WARRIORS | FULL GAME 5 NBA FINALS HIGHLIGHTS | June 13, 2022\n",
            "https://www.youtube.com/watch?v=fTpZSpG0_vg\n",
            "\n",
            "CELTICS at WARRIORS | FULL GAME 2 NBA FINALS HIGHLIGHTS | June 5, 2022\n",
            "https://www.youtube.com/watch?v=GhkI0wYrAZM\n",
            "\n",
            "WARRIORS at CELTICS | FULL GAME 4 NBA FINALS HIGHLIGHTS | June 10, 2022\n",
            "https://www.youtube.com/watch?v=B-5StlRZInc\n",
            "\n",
            "WARRIORS at CELTICS | FULL GAME 6 NBA FINALS HIGHLIGHTS | June 16, 2022\n",
            "https://www.youtube.com/watch?v=AOYACk7m7Fk\n",
            "\n",
            "WARRIORS at CELTICS | FULL GAME 3 NBA FINALS HIGHLIGHTS | June 8, 2022\n",
            "https://www.youtube.com/watch?v=lFovcuvoGCg\n",
            "\n",
            "CELTICS at WARRIORS | FULL GAME 1 NBA FINALS HIGHLIGHTS | June 2, 2022\n",
            "https://www.youtube.com/watch?v=FORXBT6GFa0\n",
            "\n",
            "BUCKS at SUNS | FULL GAME 5 NBA FINALS HIGHLIGHTS | July 17, 2021\n",
            "https://www.youtube.com/watch?v=NQVD6ddpwco\n",
            "\n",
            "SUNS at BUCKS | FULL GAME 4 NBA FINALS HIGHLIGHTS | July 14, 2021\n",
            "https://www.youtube.com/watch?v=a_39qOCpDco\n",
            "\n",
            "Stephen Curry NBA RECORD 16 THREES &amp; 50 PTS at 2022 NBA All-Star 💦💦\n",
            "https://www.youtube.com/watch?v=oJiNAR21gxA\n",
            "\n",
            "SUNS at BUCKS | FULL GAME 6 NBA FINALS HIGHLIGHTS | July 20, 2021\n",
            "https://www.youtube.com/watch?v=xxRQ5nne7fs\n",
            "\n",
            "First video downloaded as nba_highlight.mp4\n"
          ]
        }
      ],
      "source": [
        "from googleapiclient.discovery import build\n",
        "from pytubefix import YouTube\n",
        "from pytubefix.cli import on_progress\n",
        "\n",
        "\n",
        "# Function to search YouTube for a specific channel\n",
        "def search_youtube_channel(query, channel_id, max_results=10):\n",
        "    API_KEY = os.getenv(YOUTUBE_API_KEY)\n",
        "    youtube = build('youtube', 'v3', developerKey=API_KEY)\n",
        "\n",
        "    # Search query specifically targeting basketball-related content\n",
        "    request = youtube.search().list(\n",
        "        part=\"snippet\",\n",
        "        maxResults=max_results,\n",
        "        q=query + ' \"at\" (\"FULL GAME HIGHLIGHTS\" OR \"FULL GAME 1 HIGHLIGHTS\" OR \"FULL GAME 2 HIGHLIGHTS\" OR \"FULL GAME 3 HIGHLIGHTS\" OR \"FULL GAME 4 HIGHLIGHTS\" OR \"FULL GAME 5 HIGHLIGHTS\" OR \"FULL GAME 6 HIGHLIGHTS\" OR \"FULL GAME 7 HIGHLIGHTS\") -2K -gaming -olympic -showcase -politics -news -interview -commentary',\n",
        "        type=\"video\",\n",
        "        channelId=channel_id  # Specific channel ID\n",
        "    )\n",
        "\n",
        "    response = request.execute()\n",
        "\n",
        "    videos = []\n",
        "    for item in response.get('items', []):\n",
        "        title = item['snippet']['title']\n",
        "        video_id = item['id']['videoId']\n",
        "        video_url = f\"https://www.youtube.com/watch?v={video_id}\"\n",
        "        videos.append((title, video_url))\n",
        "        print(f\"{title}\\n{video_url}\\n\")\n",
        "\n",
        "    return videos\n",
        "\n",
        "# List of channels to search\n",
        "channels = {\n",
        "    \"NBA\": \"UCWJ2lWNubArHWmf3FIHbfcQ\",  # Official NBA channel\n",
        "}\n",
        "\n",
        "# Combine results from multiple channels\n",
        "all_videos = []\n",
        "for channel_name, channel_id in channels.items():\n",
        "    print(f\"Searching in {channel_name} channel...\")\n",
        "    videos = search_youtube_channel(\"NBA game highlights\", channel_id)\n",
        "    all_videos.extend(videos)\n",
        "\n",
        "# Download the first video using pytubefix\n",
        "if all_videos:\n",
        "    first_video_url = all_videos[0][1]\n",
        "    try:\n",
        "        yt = YouTube(first_video_url, on_progress_callback=on_progress)\n",
        "\n",
        "        # Select the stream with the highest resolution\n",
        "        ys = yt.streams.get_highest_resolution()\n",
        "        ys.download(filename='nba_highlight.mp4')\n",
        "\n",
        "        print(\"First video downloaded as nba_highlight.mp4\")\n",
        "    except Exception as e:\n",
        "        print(f\"An error occurred: {str(e)}\")\n"
      ]
    },
    {
      "cell_type": "code",
      "execution_count": null,
      "metadata": {
        "colab": {
          "base_uri": "https://localhost:8080/"
        },
        "collapsed": true,
        "id": "eLC8F2441_hC",
        "outputId": "91f96fb0-5c79-4282-8cd9-d54e82096e2b"
      },
      "outputs": [
        {
          "name": "stdout",
          "output_type": "stream",
          "text": [
            "Requirement already satisfied: moviepy in /usr/local/lib/python3.10/dist-packages (1.0.3)\n",
            "Requirement already satisfied: opencv-python in /usr/local/lib/python3.10/dist-packages (4.10.0.84)\n",
            "Requirement already satisfied: pillow in /usr/local/lib/python3.10/dist-packages (9.4.0)\n",
            "Requirement already satisfied: decorator<5.0,>=4.0.2 in /usr/local/lib/python3.10/dist-packages (from moviepy) (4.4.2)\n",
            "Requirement already satisfied: tqdm<5.0,>=4.11.2 in /usr/local/lib/python3.10/dist-packages (from moviepy) (4.66.5)\n",
            "Requirement already satisfied: requests<3.0,>=2.8.1 in /usr/local/lib/python3.10/dist-packages (from moviepy) (2.32.3)\n",
            "Requirement already satisfied: proglog<=1.0.0 in /usr/local/lib/python3.10/dist-packages (from moviepy) (0.1.10)\n",
            "Requirement already satisfied: numpy>=1.17.3 in /usr/local/lib/python3.10/dist-packages (from moviepy) (1.26.4)\n",
            "Requirement already satisfied: imageio<3.0,>=2.5 in /usr/local/lib/python3.10/dist-packages (from moviepy) (2.34.2)\n",
            "Requirement already satisfied: imageio-ffmpeg>=0.2.0 in /usr/local/lib/python3.10/dist-packages (from moviepy) (0.5.1)\n",
            "Requirement already satisfied: setuptools in /usr/local/lib/python3.10/dist-packages (from imageio-ffmpeg>=0.2.0->moviepy) (71.0.4)\n",
            "Requirement already satisfied: charset-normalizer<4,>=2 in /usr/local/lib/python3.10/dist-packages (from requests<3.0,>=2.8.1->moviepy) (3.3.2)\n",
            "Requirement already satisfied: idna<4,>=2.5 in /usr/local/lib/python3.10/dist-packages (from requests<3.0,>=2.8.1->moviepy) (3.7)\n",
            "Requirement already satisfied: urllib3<3,>=1.21.1 in /usr/local/lib/python3.10/dist-packages (from requests<3.0,>=2.8.1->moviepy) (2.0.7)\n",
            "Requirement already satisfied: certifi>=2017.4.17 in /usr/local/lib/python3.10/dist-packages (from requests<3.0,>=2.8.1->moviepy) (2024.7.4)\n"
          ]
        }
      ],
      "source": [
        "!pip install moviepy opencv-python pillow"
      ]
    },
    {
      "cell_type": "code",
      "execution_count": null,
      "metadata": {
        "colab": {
          "base_uri": "https://localhost:8080/"
        },
        "id": "sgq_sCT_3Rii",
        "outputId": "e4b86610-7de6-4b29-fb27-ebd704ef81f0"
      },
      "outputs": [
        {
          "name": "stdout",
          "output_type": "stream",
          "text": [
            "Moviepy - Building video short_video.mp4.\n",
            "MoviePy - Writing audio in short_videoTEMP_MPY_wvf_snd.mp3\n"
          ]
        },
        {
          "name": "stderr",
          "output_type": "stream",
          "text": []
        },
        {
          "name": "stdout",
          "output_type": "stream",
          "text": [
            "MoviePy - Done.\n",
            "Moviepy - Writing video short_video.mp4\n",
            "\n"
          ]
        },
        {
          "name": "stderr",
          "output_type": "stream",
          "text": []
        },
        {
          "name": "stdout",
          "output_type": "stream",
          "text": [
            "Moviepy - Done !\n",
            "Moviepy - video ready short_video.mp4\n",
            "MoviePy - Writing audio in short_audio.mp3\n"
          ]
        },
        {
          "name": "stderr",
          "output_type": "stream",
          "text": []
        },
        {
          "name": "stdout",
          "output_type": "stream",
          "text": [
            "MoviePy - Done.\n",
            "Transcription type: <class 'str'>\n",
            "Transcription content: And I would block out all the positive suggestions by so many. Listen to your coaches, your teammates, but most importantly, trust yourself.\n",
            "\n",
            "In the provided image, we see an NBA playoff game likely from the Finals, given the \"NBA Finals\" logo on the court. The setting is Chase Center, home of the Golden State Warriors. The atmosphere appears electric, with a packed crowd and a sea of yellow and green jerseys, indicating the teams involved are the Golden State Warriors and the Boston Celtics.\n",
            "\n",
            "### Key Moments & Actions\n",
            "1. **Tip-Off**: The game is in its early moments, with players positioned for the tip-off. This is a critical moment as it sets the tone for the start of the game.\n",
            "  \n",
            "2. **Teams**: The players in the image are wearing their team colors. The Warriors are in white (with some yellow accents), while the Celtics are in green, which helps identify the teams competing.\n",
            "\n",
            "3. **Crowd Engagement**: The visible crowd appears enthusiastic, indicating a tense and excited atmosphere typical of playoff games.\n",
            "\n",
            "### Summary of Events\n",
            "- **Game Start**: The image captures the tip-off phase as players prepare to jump for possession of the ball. Strategies will be pivotal as both teams are likely to implement their game plans.\n",
            "  \n",
            "- **Coaching and Team Dynamics**: The accompanying audio transcription suggests a theme of self-trust and team cohesion. Coaches and players are likely emphasizing the importance of teamwork and individual confidence, which is crucial in high-stakes games like the Finals.\n",
            "\n",
            "- **Setting Analysis**: The Chase Center is known for fostering a vibrant atmosphere. The fans are emotionally invested, which can influence player performance. The combination of playoff intensity, the venue's energy, and the historic rivalry between the Celtics and Warriors adds layers to the significance of this match.\n",
            "\n",
            "In summary, this moment captures the essence of NBA playoff intensity, showcasing the anticipation of a pivotal game, underscored by themes of teamwork, strategy, and trust in one's abilities as emphasized by coaches.\n"
          ]
        }
      ],
      "source": [
        "import cv2\n",
        "import numpy as np\n",
        "from moviepy.editor import VideoFileClip\n",
        "from PIL import Image\n",
        "import base64\n",
        "from openai import OpenAI\n",
        "\n",
        "import dotenv\n",
        "import os\n",
        "\n",
        "load_dotenv()\n",
        "\n",
        "# OpenAI API Key and client\n",
        "api_key = os.getenv(OPENAI_API_KEY)\n",
        "\n",
        "client = OpenAI(\n",
        "    api_key=api_key\n",
        ")\n",
        "\n",
        "# Step 1: Extract the first 10 seconds of the video\n",
        "def extract_video_and_audio(video_path, output_video_path, output_audio_path):\n",
        "    clip = VideoFileClip(video_path).subclip(0, 10)\n",
        "    clip.write_videofile(output_video_path, codec=\"libx264\")\n",
        "    clip.audio.write_audiofile(output_audio_path)\n",
        "\n",
        "# Step 2: Extract 9 frames and create a 3x3 grid\n",
        "def create_photo_grid(video_path, output_image_path):\n",
        "    cap = cv2.VideoCapture(video_path)\n",
        "    frame_count = int(cap.get(cv2.CAP_PROP_FRAME_COUNT))\n",
        "    frames_to_extract = np.linspace(0, frame_count-1, 9, dtype=int)\n",
        "\n",
        "    images = []\n",
        "    for i in frames_to_extract:\n",
        "        cap.set(cv2.CAP_PROP_POS_FRAMES, i)\n",
        "        ret, frame = cap.read()\n",
        "        if ret:\n",
        "            images.append(cv2.cvtColor(frame, cv2.COLOR_BGR2RGB))\n",
        "\n",
        "    cap.release()\n",
        "\n",
        "    # Create a 3x3 grid\n",
        "    grid_image = Image.new('RGB', (images[0].shape[1]*3, images[0].shape[0]*3))\n",
        "    for i, img in enumerate(images):\n",
        "        img_pil = Image.fromarray(img)\n",
        "        grid_image.paste(img_pil, ((i % 3) * img_pil.width, (i // 3) * img_pil.height))\n",
        "\n",
        "    grid_image.save(output_image_path)\n",
        "\n",
        "# Step 3: Transcribe the first 10 seconds of audio using Whisper\n",
        "def transcribe_audio(audio_path):\n",
        "    with open(audio_path, \"rb\") as audio_file:\n",
        "        # Create the transcription\n",
        "        transcription = client.audio.transcriptions.create(\n",
        "            model=\"whisper-1\",\n",
        "            file=audio_file,\n",
        "            response_format=\"text\"  # Ensuring we're requesting a text format response\n",
        "        )\n",
        "\n",
        "        # Debugging: Print the type and content of the transcription variable\n",
        "        print(f\"Transcription type: {type(transcription)}\")\n",
        "        print(f\"Transcription content: {transcription}\")\n",
        "\n",
        "        # If transcription is a dictionary (as expected), return the text\n",
        "        if isinstance(transcription, dict) and 'text' in transcription:\n",
        "            return transcription['text']\n",
        "        # If transcription is a string, return it directly\n",
        "        elif isinstance(transcription, str):\n",
        "            return transcription\n",
        "        else:\n",
        "            raise ValueError(\"Unexpected response format from the API\")\n",
        "\n",
        "\n",
        "# Step 4: Use GPT-4 with Vision to analyze the photo grid and transcription\n",
        "def analyze_image_and_text(image_path, transcription):\n",
        "    with open(image_path, \"rb\") as image_file:\n",
        "        image_data = image_file.read()\n",
        "\n",
        "    image_b64 = base64.b64encode(image_data).decode('utf-8')\n",
        "\n",
        "    # Creating a detailed and targeted prompt\n",
        "    prompt = (\n",
        "        \"You are provided with an image from an NBA playoff game and the corresponding audio transcription. \"\n",
        "        \"Analyze the image and the transcription to determine key moments, identify players, actions, and any significant events in the game. \"\n",
        "        \"Also, analyze the setting of the game and provide a detailed summary of what is happening.\"\n",
        "    )\n",
        "\n",
        "    response = client.chat.completions.create(\n",
        "        model=\"gpt-4o-mini\",\n",
        "        messages=[\n",
        "            {\n",
        "                \"role\": \"user\",\n",
        "                \"content\": [\n",
        "                    {\"type\": \"text\", \"text\": prompt},\n",
        "                    {\"type\": \"image_url\", \"image_url\": {\"url\": f\"data:image/jpeg;base64,{image_b64}\", \"detail\": \"high\"}},\n",
        "                    {\"type\": \"text\", \"text\": transcription}\n",
        "                ]\n",
        "            }\n",
        "        ],\n",
        "        max_tokens=500,  # Increase max tokens if you expect a detailed response\n",
        "    )\n",
        "\n",
        "    return response.choices[0].message.content\n",
        "\n",
        "# Example usage\n",
        "video_path = \"nba_highlight.mp4\"  # Path to the downloaded video\n",
        "output_video_path = \"short_video.mp4\"\n",
        "output_audio_path = \"short_audio.mp3\"\n",
        "output_image_path = \"photo_grid.jpg\"\n",
        "\n",
        "extract_video_and_audio(video_path, output_video_path, output_audio_path)\n",
        "create_photo_grid(output_video_path, output_image_path)\n",
        "transcription = transcribe_audio(output_audio_path)\n",
        "\n",
        "# Analyze the image and transcription\n",
        "analysis = analyze_image_and_text(output_image_path, transcription)\n",
        "print(analysis)\n"
      ]
    },
    {
      "cell_type": "code",
      "execution_count": null,
      "metadata": {
        "colab": {
          "base_uri": "https://localhost:8080/"
        },
        "id": "fJoTJg3k4AeY",
        "outputId": "d6340392-8d87-411d-ec41-71ec55f9d7a1"
      },
      "outputs": [
        {
          "name": "stderr",
          "output_type": "stream",
          "text": [
            "WARNING:py.warnings:/usr/local/lib/python3.10/dist-packages/sklearn/base.py:465: UserWarning: X does not have valid feature names, but LogisticRegression was fitted with feature names\n",
            "  warnings.warn(\n",
            "\n"
          ]
        },
        {
          "name": "stdout",
          "output_type": "stream",
          "text": [
            "Home team is predicted to win with a score of 0.78\n"
          ]
        }
      ],
      "source": [
        "import numpy as np\n",
        "from sklearn.linear_model import LogisticRegression\n",
        "from sklearn.metrics import accuracy_score, classification_report\n",
        "\n",
        "# Assuming you've already done the data preprocessing and training as in your provided script\n",
        "\n",
        "# Step 1: Get season data prediction (logistic regression)\n",
        "def predict_season_outcome(home_team_score, away_team_score, model):\n",
        "    game_data = np.array([[home_team_score, away_team_score]])\n",
        "    # Predict probability of home team winning\n",
        "    season_prob = model.predict_proba(game_data)[0][1]  # [0][1] is the probability for class 1 (home win)\n",
        "    return season_prob\n",
        "\n",
        "# Step 2: Integrate sentiment and video analysis scores (already calculated)\n",
        "def get_final_prediction(home_team_score, away_team_score, model, video_score_home, video_score_away, sentiment_score_home, sentiment_score_away):\n",
        "    # Get the season prediction\n",
        "    season_prob_home = predict_season_outcome(home_team_score, away_team_score, model)\n",
        "    season_prob_away = 1 - season_prob_home\n",
        "\n",
        "    # Weights for the different factors\n",
        "    weights = {\n",
        "        'season': 0.5,\n",
        "        'video': 0.3,\n",
        "        'sentiment': 0.2\n",
        "    }\n",
        "\n",
        "    # Normalize the video and sentiment scores\n",
        "    video_score_home = video_score_home / (video_score_home + video_score_away)\n",
        "    video_score_away = 1 - video_score_home\n",
        "    sentiment_score_home = sentiment_score_home / (sentiment_score_home + sentiment_score_away)\n",
        "    sentiment_score_away = 1 - sentiment_score_home\n",
        "\n",
        "    # Calculate weighted scores for home and away teams\n",
        "    final_score_home = (\n",
        "        season_prob_home * weights['season'] +\n",
        "        video_score_home * weights['video'] +\n",
        "        sentiment_score_home * weights['sentiment']\n",
        "    )\n",
        "\n",
        "    final_score_away = (\n",
        "        season_prob_away * weights['season'] +\n",
        "        video_score_away * weights['video'] +\n",
        "        sentiment_score_away * weights['sentiment']\n",
        "    )\n",
        "\n",
        "    # Determine the winner based on the final score\n",
        "    if final_score_home > final_score_away:\n",
        "        return f\"Home team is predicted to win with a score of {final_score_home:.2f}\"\n",
        "    else:\n",
        "        return f\"Away team is predicted to win with a score of {final_score_away:.2f}\"\n",
        "\n",
        "# Example usage with your logistic regression model and scores\n",
        "home_team_score = 110  # Replace with actual score data\n",
        "away_team_score = 105  # Replace with actual score data\n",
        "video_score_home = 0.8  # Replace with actual video analysis score\n",
        "video_score_away = 0.6  # Replace with actual video analysis score\n",
        "sentiment_score_home = 0.7  # Replace with actual sentiment analysis score\n",
        "sentiment_score_away = 0.5  # Replace with actual sentiment analysis score\n",
        "\n",
        "# Assuming 'model' is your trained logistic regression model\n",
        "prediction = get_final_prediction(home_team_score, away_team_score, model, video_score_home, video_score_away, sentiment_score_home, sentiment_score_away)\n",
        "print(prediction)\n"
      ]
    },
    {
      "cell_type": "code",
      "execution_count": null,
      "metadata": {
        "id": "kcoHt4Krp4I3"
      },
      "outputs": [],
      "source": []
    }
  ],
  "metadata": {
    "colab": {
      "provenance": []
    },
    "kernelspec": {
      "display_name": "Python 3",
      "name": "python3"
    },
    "language_info": {
      "name": "python"
    }
  },
  "nbformat": 4,
  "nbformat_minor": 0
}
